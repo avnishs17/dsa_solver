{
 "cells": [
  {
   "cell_type": "code",
   "execution_count": 1,
   "id": "65589348",
   "metadata": {},
   "outputs": [
    {
     "data": {
      "text/plain": [
       "True"
      ]
     },
     "execution_count": 1,
     "metadata": {},
     "output_type": "execute_result"
    }
   ],
   "source": [
    "from dotenv import load_dotenv\n",
    "import os\n",
    "import getpass\n",
    "\n",
    "load_dotenv()"
   ]
  },
  {
   "cell_type": "code",
   "execution_count": 2,
   "id": "07b3c6fa",
   "metadata": {},
   "outputs": [],
   "source": [
    "if \"GOOGLE_API_KEY\" not in os.environ:\n",
    "    os.environ[\"GOOGLE_API_KEY\"] = getpass.getpass(\"Enter your Google AI API key: \")"
   ]
  },
  {
   "cell_type": "code",
   "execution_count": 3,
   "id": "ef29b935",
   "metadata": {},
   "outputs": [],
   "source": [
    "if \"LANGSMITH_API_KEY\" not in os.environ:\n",
    "    os.environ[\"LANGSMITH_API_KEY\"] = getpass.getpass(\"Enter your LangSmith API key: \")\n",
    "os.environ[\"LANGSMITH_TRACING\"] = \"true\""
   ]
  },
  {
   "cell_type": "code",
   "execution_count": 4,
   "id": "d226d044",
   "metadata": {},
   "outputs": [],
   "source": [
    "from langchain_google_genai import ChatGoogleGenerativeAI\n",
    "\n",
    "llm = ChatGoogleGenerativeAI(\n",
    "    model=\"gemini-2.5-flash\",\n",
    ")"
   ]
  },
  {
   "cell_type": "code",
   "execution_count": 5,
   "id": "edccaa38",
   "metadata": {},
   "outputs": [],
   "source": [
    "from langchain_core.tools import Tool\n",
    "from langchain_experimental.utilities import PythonREPL"
   ]
  },
  {
   "cell_type": "code",
   "execution_count": 6,
   "id": "3569f17e",
   "metadata": {},
   "outputs": [],
   "source": [
    "python_repl = PythonREPL()"
   ]
  },
  {
   "cell_type": "code",
   "execution_count": 7,
   "id": "509a9eb9",
   "metadata": {},
   "outputs": [],
   "source": [
    "from langchain_experimental.utilities import PythonREPL\n",
    "import sys\n",
    "from io import StringIO\n",
    "\n",
    "class PersistentPythonREPLTool(PythonREPL):\n",
    "    def __init__(self):\n",
    "        super().__init__()\n",
    "        self._globals = {}\n",
    "\n",
    "    def run(self, command: str) -> str:\n",
    "        # Capture stdout\n",
    "        old_stdout = sys.stdout\n",
    "        sys.stdout = captured_output = StringIO()\n",
    "        \n",
    "        try:\n",
    "            # First try eval (single expression)\n",
    "            result = eval(command, self._globals)\n",
    "            output = captured_output.getvalue()\n",
    "            if output:\n",
    "                return output + str(result)\n",
    "            return str(result)\n",
    "        except SyntaxError:\n",
    "            # If it's a statement block, use exec\n",
    "            try:\n",
    "                exec(command, self._globals)\n",
    "                output = captured_output.getvalue()\n",
    "                return output if output else \"Executed successfully with no output.\"\n",
    "            except Exception as e:\n",
    "                output = captured_output.getvalue()\n",
    "                return output + repr(e) if output else repr(e)\n",
    "        except Exception as e:\n",
    "            output = captured_output.getvalue()\n",
    "            return output + repr(e) if output else repr(e)\n",
    "        finally:\n",
    "            # Restore stdout\n",
    "            sys.stdout = old_stdout"
   ]
  },
  {
   "cell_type": "code",
   "execution_count": 8,
   "id": "01d40413",
   "metadata": {},
   "outputs": [],
   "source": [
    "repl_tool = Tool(\n",
    "    name=\"python_repl\",\n",
    "    description=\"A Python shell. Use this to execute python commands. Input should be\" \\\n",
    "                \" a valid python command. If you want to see the output of a value, you \" \\\n",
    "                \"should print it out with `print(...)`.\",\n",
    "    func=python_repl.run,\n",
    ")"
   ]
  },
  {
   "cell_type": "code",
   "execution_count": 9,
   "id": "e83269e5",
   "metadata": {},
   "outputs": [],
   "source": [
    "from langchain_core.tools import tool\n",
    "\n",
    "@tool(name_or_callable=\"generate_hint\", description=\"Generate a helpful hint for a DSA problem without solving it.\")\n",
    "def generate_hint(question: str) -> str:\n",
    "    \"\"\"Generate a helpful hint for a DSA problem without solving it.\n",
    "    input: question (str): The DSA problem to generate a hint for.\n",
    "    output: str: A helpful hint for the DSA problem.\"\"\"\n",
    "    \n",
    "    return llm.invoke(f\"Give a helpful hint for this DSA problem without solving it: {question}\").content"
   ]
  },
  {
   "cell_type": "code",
   "execution_count": 10,
   "id": "57fd3ca5",
   "metadata": {},
   "outputs": [],
   "source": [
    "@tool(name_or_callable=\"generate_test_cases\", description=\"Generate test cases for DSA problems without solving them.\")\n",
    "def generate_test_cases(problem_description: str) -> str:\n",
    "    \"\"\"Use this to generate test cases for DSA problems.\n",
    "    input: problem_description - the DSA problem statement\n",
    "    output: 3 test cases without solving the problem\"\"\"\n",
    "    \n",
    "    return llm.invoke(f\"Create 3 test cases for this DSA problem without solving it: {problem_description}\").content"
   ]
  },
  {
   "cell_type": "code",
   "execution_count": 11,
   "id": "392e9e94",
   "metadata": {},
   "outputs": [],
   "source": [
    "@tool(name_or_callable=\"bug_hint_tool\", description=\"Analyze code for logic issues and provide a subtle hint.\")\n",
    "def bug_hint_tool(code: str) -> str:\n",
    "    \"\"\"Use this to analyze code for logic issues and provide a subtle hint.\n",
    "    input: code - the code to analyze\n",
    "    output: str - a subtle hint about potential logic issues in the code.\n",
    "    \"\"\"\n",
    "\n",
    "    return llm.invoke(f\"Analyze this code for logic issues and give a subtle hint: {code}\").content"
   ]
  },
  {
   "cell_type": "code",
   "execution_count": 12,
   "id": "0465a769",
   "metadata": {},
   "outputs": [],
   "source": [
    "@tool(name_or_callable=\"complexity_analyzer\", description=\"Analyze time and space complexity of code\")\n",
    "def complexity_analyzer(code: str) -> str:\n",
    "    \"\"\"Analyze the time and space complexity of the given code.\"\"\"\n",
    "    prompt = f\"\"\"Analyze the time and space complexity of this code. Provide:\n",
    "    1. Time complexity with explanation\n",
    "    2. Space complexity with explanation\n",
    "    3. Suggestions for optimization if any\n",
    "    \n",
    "    Code: {code}\"\"\"\n",
    "    return llm.invoke(prompt).content"
   ]
  },
  {
   "cell_type": "code",
   "execution_count": 13,
   "id": "df172f15",
   "metadata": {},
   "outputs": [],
   "source": [
    "@tool(name_or_callable=\"code_quality_checker\", description=\"Check code quality and suggest improvements\")\n",
    "def code_quality_checker(code: str) -> str:\n",
    "    \"\"\"Check code quality and suggest improvements.\"\"\"\n",
    "    prompt = f\"\"\"Review this code for:\n",
    "    1. Readability and style\n",
    "    2. Edge case handling\n",
    "    3. Variable naming\n",
    "    4. Code structure\n",
    "    \n",
    "    Code: {code}\"\"\"\n",
    "    return llm.invoke(prompt).content"
   ]
  },
  {
   "cell_type": "code",
   "execution_count": 14,
   "id": "d21bca15",
   "metadata": {},
   "outputs": [],
   "source": [
    "@tool(name_or_callable=\"recommend_problems\", description=\"Recommend next problems based on progress\")\n",
    "def recommend_problems(current_topic: str = \"\", difficulty: str = \"medium\") -> str:\n",
    "    \"\"\"Recommend problems based on learning progression.\"\"\"\n",
    "    \n",
    "    prompt = f\"\"\"Based on the current topic '{current_topic}' and difficulty '{difficulty}', \n",
    "    recommend 3 specific DSA problems that would be good next steps for learning. \n",
    "    Include problem names and brief descriptions.\"\"\"\n",
    "    \n",
    "    return llm.invoke(prompt).content"
   ]
  },
  {
   "cell_type": "code",
   "execution_count": 15,
   "id": "71c0f0ef",
   "metadata": {},
   "outputs": [],
   "source": [
    "@tool(name_or_callable=\"create_study_plan\", description=\"Create personalized DSA study plan\")\n",
    "def create_study_plan(timeline_weeks: str, current_level: str, target_goals: str) -> str:\n",
    "    \"\"\"Create a personalized study plan for DSA preparation.\"\"\"\n",
    "    prompt = f\"\"\"Create a {timeline_weeks}-week DSA study plan for someone at {current_level} level \n",
    "    with goals: {target_goals}. Include:\n",
    "    1. Week-by-week topics\n",
    "    2. Number of problems per topic\n",
    "    3. Key concepts to master\n",
    "    4. Milestones to track progress\"\"\"\n",
    "    \n",
    "    return llm.invoke(prompt).content"
   ]
  },
  {
   "cell_type": "code",
   "execution_count": 16,
   "id": "5fbce800",
   "metadata": {},
   "outputs": [],
   "source": [
    "tools = [\n",
    "    repl_tool, \n",
    "    generate_hint, \n",
    "    generate_test_cases, \n",
    "    bug_hint_tool,\n",
    "    complexity_analyzer,\n",
    "    code_quality_checker,\n",
    "    recommend_problems,\n",
    "    create_study_plan\n",
    "]"
   ]
  },
  {
   "cell_type": "code",
   "execution_count": 17,
   "id": "a6c2b1cf",
   "metadata": {},
   "outputs": [],
   "source": [
    "llm_with_tools = llm.bind_tools(tools)"
   ]
  },
  {
   "cell_type": "code",
   "execution_count": 18,
   "id": "7bb9b4cb",
   "metadata": {},
   "outputs": [],
   "source": [
    "from typing import Annotated\n",
    "from typing_extensions import TypedDict\n",
    "from langgraph.graph.message import add_messages\n",
    "from langchain_core.messages import HumanMessage,SystemMessage,AnyMessage\n",
    "from langgraph.graph import StateGraph, START\n",
    "\n",
    "class State(TypedDict):\n",
    "    messages: Annotated[list[AnyMessage], add_messages]\n"
   ]
  },
  {
   "cell_type": "code",
   "execution_count": 19,
   "id": "3c2a4767",
   "metadata": {},
   "outputs": [],
   "source": [
    "sys_msg = SystemMessage(content=(\n",
    "    \"You are an expert DSA mentor using the Socratic method. Your goal is to guide students through problem-solving by asking questions and using tools proactively.\\n\\n\"\n",
    "    \n",
    "    \"CORE PRINCIPLES:\\n\"\n",
    "    \"1. NEVER give direct solutions - guide through questions and hints\\n\"\n",
    "    \"2. ALWAYS use tools proactively based on context, not just when asked\\n\"\n",
    "    \"3. Engage in meaningful conversations about problem-solving approach\\n\\n\"\n",
    "    \n",
    "    \"WHEN TO USE TOOLS AUTOMATICALLY:\\n\"\n",
    "    \"- When user shares a problem statement → use `generate_hint` and `generate_test_cases`\\n\"\n",
    "    \"- When user shares code → use `bug_hint_tool` to check for issues\\n\"\n",
    "    \"- After code is working → use `complexity_analyzer` and `code_quality_checker`\\n\"\n",
    "    \"- When user seems stuck → use `recommend_problems` for easier problems\\n\"\n",
    "    \"- When user wants to learn a topic → use `create_study_plan`\\n\"\n",
    "    \"- When testing solutions → use `python_repl` to run and verify code\\n\"\n",
    "    \n",
    "    \"PROBLEM-SOLVING METHODOLOGY:\\n\"\n",
    "    \"1. Understand the problem (ask clarifying questions)\\n\"\n",
    "    \"2. Generate test cases (use `generate_test_cases`)\\n\"\n",
    "    \"3. Think of examples and edge cases\\n\"\n",
    "    \"4. Consider different approaches (use `generate_hint`)\\n\"\n",
    "    \"5. Implement solution step by step\\n\"\n",
    "    \"6. Test implementation (use `python_repl`)\\n\"\n",
    "    \"7. Debug if needed (use `bug_hint_tool`)\\n\"\n",
    "    \"8. Analyze complexity (use `complexity_analyzer`)\\n\"\n",
    "    \"9. Review code quality (use `code_quality_checker`)\\n\\n\"\n",
    "    \n",
    "    \"CONVERSATION FLOW:\\n\"\n",
    "    \"- Start each new problem by automatically generating hints and test cases\\n\"\n",
    "    \"- Ask probing questions about their approach\\n\"\n",
    "    \"- Use visualization tools to explain concepts\\n\"\n",
    "    \"- Run code automatically when they share solutions\\n\"\n",
    "    \"- Provide complexity analysis once code works\\n\"\n",
    "    \"- Recommend next problems based on progress\\n\\n\"\n",
    "    \n",
    "    \"Remember: Be proactive with tools to create an engaging learning experience!\"\n",
    "))"
   ]
  },
  {
   "cell_type": "code",
   "execution_count": 20,
   "id": "c5a81a83",
   "metadata": {},
   "outputs": [],
   "source": [
    "from langgraph.prebuilt import tools_condition, ToolNode\n",
    "from langgraph.graph import MessagesState"
   ]
  },
  {
   "cell_type": "code",
   "execution_count": 21,
   "id": "80190757",
   "metadata": {},
   "outputs": [],
   "source": [
    "def assistant(state: MessagesState):\n",
    "    return {\"messages\": [llm_with_tools.invoke([sys_msg] + state[\"messages\"])]}"
   ]
  },
  {
   "cell_type": "code",
   "execution_count": 22,
   "id": "307dc1be",
   "metadata": {},
   "outputs": [
    {
     "data": {
      "text/plain": [
       "<langgraph.graph.state.StateGraph at 0x211bff73950>"
      ]
     },
     "execution_count": 22,
     "metadata": {},
     "output_type": "execute_result"
    }
   ],
   "source": [
    "graph = StateGraph(State)\n",
    "graph.add_node(\"assistant\", assistant)\n",
    "graph.add_node(\"tools\", ToolNode(tools))\n",
    "graph.add_edge(START,\"assistant\")\n",
    "graph.add_conditional_edges(\"assistant\", tools_condition)\n",
    "graph.add_edge(\"tools\", \"assistant\")"
   ]
  },
  {
   "cell_type": "code",
   "execution_count": 23,
   "id": "5e17117a",
   "metadata": {},
   "outputs": [],
   "source": [
    "from langgraph.checkpoint.memory import MemorySaver\n",
    "\n",
    "memory = MemorySaver()"
   ]
  },
  {
   "cell_type": "code",
   "execution_count": 24,
   "id": "ef15f025",
   "metadata": {},
   "outputs": [],
   "source": [
    "app=graph.compile(checkpointer=memory)"
   ]
  },
  {
   "cell_type": "code",
   "execution_count": 25,
   "id": "04535308",
   "metadata": {},
   "outputs": [
    {
     "data": {
      "image/png": "[encoded data removed]",
      "text/plain": [
       "<IPython.core.display.Image object>"
      ]
     },
     "metadata": {},
     "output_type": "display_data"
    }
   ],
   "source": [
    "from IPython.display import Image, display\n",
    "display(Image(app.get_graph().draw_mermaid_png()))"
   ]
  },
  {
   "cell_type": "code",
   "execution_count": 26,
   "id": "245e475a",
   "metadata": {},
   "outputs": [
    {
     "name": "stdout",
     "output_type": "stream",
     "text": [
      "================================\u001b[1m Human Message \u001b[0m=================================\n",
      "\n",
      "two sum problem\n",
      "==================================\u001b[1m Ai Message \u001b[0m==================================\n",
      "\n",
      "Great! The \"Two Sum\" problem is a classic. Let's break it down.\n",
      "\n",
      "First, to make sure we're on the same page, could you describe the problem in your own words?\n",
      "\n",
      "In the meantime, here are some hints and test cases to get us started:\n",
      "Tool Calls:\n",
      "  generate_hint (41fc9977-f2d0-45c7-b92b-bdbe824e01b0)\n",
      " Call ID: 41fc9977-f2d0-45c7-b92b-bdbe824e01b0\n",
      "  Args:\n",
      "    question: Two Sum problem\n",
      "  generate_test_cases (501e0097-ec08-437c-96ea-e0957c3485ad)\n",
      " Call ID: 501e0097-ec08-437c-96ea-e0957c3485ad\n",
      "  Args:\n",
      "    problem_description: Two Sum problem\n",
      "=================================\u001b[1m Tool Message \u001b[0m=================================\n",
      "Name: generate_test_cases\n",
      "\n",
      "Okay, here are 3 test cases for the Two Sum problem, without providing the solution logic itself.\n",
      "\n",
      "---\n",
      "\n",
      "**Problem Description Reminder:**\n",
      "Given an array of integers `nums` and an integer `target`, return indices of the two numbers such that they add up to `target`.\n",
      "You may assume that each input would have exactly one solution, and you may not use the same element twice.\n",
      "\n",
      "---\n",
      "\n",
      "**Test Case 1: Basic Positive Numbers**\n",
      "\n",
      "*   **Input:**\n",
      "    *   `nums = [2, 7, 11, 15]`\n",
      "    *   `target = 9`\n",
      "*   **Expected Output:**\n",
      "    *   `[0, 1]`\n",
      "    *   *(Explanation: `nums[0] + nums[1]` which is `2 + 7 = 9`)*\n",
      "\n",
      "---\n",
      "\n",
      "**Test Case 2: Negative Numbers and Zero Target**\n",
      "\n",
      "*   **Input:**\n",
      "    *   `nums = [-3, 4, 3, 90]`\n",
      "    *   `target = 0`\n",
      "*   **Expected Output:**\n",
      "    *   `[0, 2]`\n",
      "    *   *(Explanation: `nums[0] + nums[2]` which is `-3 + 3 = 0`)*\n",
      "\n",
      "---\n",
      "\n",
      "**Test Case 3: Duplicate Values and Small Array**\n",
      "\n",
      "*   **Input:**\n",
      "    *   `nums = [3, 3]`\n",
      "    *   `target = 6`\n",
      "*   **Expected Output:**\n",
      "    *   `[0, 1]`\n",
      "    *   *(Explanation: `nums[0] + nums[1]` which is `3 + 3 = 6`. This tests using two distinct elements with the same value.)*\n",
      "==================================\u001b[1m Ai Message \u001b[0m==================================\n",
      "\n",
      "The \"Two Sum\" problem is a classic! You're given an array of integers and a target sum. You need to find two numbers in the array that add up to the target and return their indices.\n",
      "\n",
      "I've generated a hint and some test cases for you.\n",
      "\n",
      "To start, how would you approach this problem? What's the first idea that comes to mind to find these two numbers?\n",
      "Conversation ended.\n"
     ]
    }
   ],
   "source": [
    "thread = {\"configurable\": {\"thread_id\": \"123\"}}\n",
    "\n",
    "while True:\n",
    "    # Get user input\n",
    "    user_input = input(\"\\nYou: \").strip()\n",
    "    if user_input.lower() in {\"exit\", \"quit\", \"cancel\"}:\n",
    "        print(\"Conversation ended.\")\n",
    "        break\n",
    "\n",
    "    # Wrap input as a HumanMessage\n",
    "    initial_input = {\"messages\": [HumanMessage(content=user_input)]}\n",
    "\n",
    "    # Stream app output\n",
    "    for event in app.stream(initial_input, thread, stream_mode=\"values\"):\n",
    "        event['messages'][-1].pretty_print()\n"
   ]
  },
  {
   "cell_type": "code",
   "execution_count": null,
   "id": "d72eafed",
   "metadata": {},
   "outputs": [],
   "source": []
  }
 ],
 "metadata": {
  "kernelspec": {
   "display_name": "dsa_solver",
   "language": "python",
   "name": "python3"
  },
  "language_info": {
   "codemirror_mode": {
    "name": "ipython",
    "version": 3
   },
   "file_extension": ".py",
   "mimetype": "text/x-python",
   "name": "python",
   "nbconvert_exporter": "python",
   "pygments_lexer": "ipython3",
   "version": "3.11.13"
  }
 },
 "nbformat": 4,
 "nbformat_minor": 5
}
