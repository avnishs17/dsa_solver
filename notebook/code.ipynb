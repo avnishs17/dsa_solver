{
 "cells": [
  {
   "cell_type": "code",
   "execution_count": 2,
   "id": "1bfca3d1",
   "metadata": {},
   "outputs": [
    {
     "data": {
      "text/plain": [
       "True"
      ]
     },
     "execution_count": 2,
     "metadata": {},
     "output_type": "execute_result"
    }
   ],
   "source": [
    "from dotenv import load_dotenv\n",
    "import os\n",
    "import getpass\n",
    "\n",
    "load_dotenv()"
   ]
  },
  {
   "cell_type": "code",
   "execution_count": 3,
   "id": "e6dafea2",
   "metadata": {},
   "outputs": [],
   "source": [
    "if \"GOOGLE_API_KEY\" not in os.environ:\n",
    "    os.environ[\"GOOGLE_API_KEY\"] = getpass.getpass(\"Enter your Google AI API key: \")"
   ]
  },
  {
   "cell_type": "code",
   "execution_count": 4,
   "id": "a5a777ad",
   "metadata": {},
   "outputs": [],
   "source": [
    "if \"LANGSMITH_API_KEY\" not in os.environ:\n",
    "    os.environ[\"LANGSMITH_API_KEY\"] = getpass.getpass(\"Enter your LangSmith API key: \")\n",
    "os.environ[\"LANGSMITH_TRACING\"] = \"true\""
   ]
  },
  {
   "cell_type": "code",
   "execution_count": 5,
   "id": "3ff02a19",
   "metadata": {},
   "outputs": [],
   "source": [
    "from langchain_google_genai import ChatGoogleGenerativeAI\n",
    "\n",
    "llm = ChatGoogleGenerativeAI(\n",
    "    model=\"gemini-2.5-flash\",\n",
    "    temperature=0.7,\n",
    "    max_retries=2,\n",
    ")"
   ]
  },
  {
   "cell_type": "code",
   "execution_count": 15,
   "id": "9557edca",
   "metadata": {},
   "outputs": [],
   "source": [
    "result=llm.invoke('What is two sum problem? Explain in 50 word or less.')"
   ]
  },
  {
   "cell_type": "code",
   "execution_count": 17,
   "id": "67642504",
   "metadata": {},
   "outputs": [
    {
     "data": {
      "text/plain": [
       "\"The Two Sum problem asks you to find two numbers in a given array of integers that sum up to a specific target number. You typically return the indices of these two numbers. It's a classic problem, often solved efficiently using a hash map.\""
      ]
     },
     "execution_count": 17,
     "metadata": {},
     "output_type": "execute_result"
    }
   ],
   "source": [
    "result.content"
   ]
  },
  {
   "cell_type": "markdown",
   "id": "4656fe24",
   "metadata": {},
   "source": [
    "The Two Sum problem asks you to find two numbers in a given array of integers that sum up to a specific target number. You typically return the indices of these two numbers. It's a classic problem, often solved efficiently using a hash map."
   ]
  },
  {
   "cell_type": "code",
   "execution_count": 21,
   "id": "2797515d",
   "metadata": {},
   "outputs": [],
   "source": [
    "from langchain_core.tools import Tool\n",
    "from langchain_experimental.utilities import PythonREPL"
   ]
  },
  {
   "cell_type": "code",
   "execution_count": 44,
   "id": "19d33347",
   "metadata": {},
   "outputs": [],
   "source": [
    "python_repl = PythonREPL()"
   ]
  },
  {
   "cell_type": "code",
   "execution_count": 45,
   "id": "ac6e5982",
   "metadata": {},
   "outputs": [
    {
     "data": {
      "text/plain": [
       "'2\\n'"
      ]
     },
     "execution_count": 45,
     "metadata": {},
     "output_type": "execute_result"
    }
   ],
   "source": [
    "python_repl.run(\"print(1+1)\")"
   ]
  },
  {
   "cell_type": "code",
   "execution_count": 47,
   "id": "df727d9b",
   "metadata": {},
   "outputs": [
    {
     "data": {
      "text/plain": [
       "'NameError(\"name \\'fib\\' is not defined\")'"
      ]
     },
     "execution_count": 47,
     "metadata": {},
     "output_type": "execute_result"
    }
   ],
   "source": [
    "python_repl.run(\"\"\"\n",
    "def fib(n):\n",
    "    if n <= 1:\n",
    "        return n\n",
    "    return fib(n-1) + fib(n-2)\n",
    "\n",
    "fib(10)\n",
    "\"\"\")\n"
   ]
  },
  {
   "cell_type": "code",
   "execution_count": 37,
   "id": "bf324cbb",
   "metadata": {},
   "outputs": [],
   "source": [
    "from langchain_experimental.utilities import PythonREPL\n",
    "\n",
    "class PersistentPythonREPLTool(PythonREPL):\n",
    "    def __init__(self):\n",
    "        super().__init__()\n",
    "        self._globals = {}\n",
    "\n",
    "    def run(self, command: str) -> str:\n",
    "        try:\n",
    "            # First try eval (single expression)\n",
    "            result = eval(command, self._globals)\n",
    "            return str(result)\n",
    "        except SyntaxError:\n",
    "            # If it's a statement block, use exec\n",
    "            try:\n",
    "                exec(command, self._globals)\n",
    "                return \"Executed.\"\n",
    "            except Exception as e:\n",
    "                return repr(e)\n",
    "        except Exception as e:\n",
    "            return repr(e)\n"
   ]
  },
  {
   "cell_type": "code",
   "execution_count": 38,
   "id": "e8b711dd",
   "metadata": {},
   "outputs": [
    {
     "name": "stdout",
     "output_type": "stream",
     "text": [
      "Executed.\n",
      "55\n"
     ]
    }
   ],
   "source": [
    "python_repl = PersistentPythonREPLTool()\n",
    "\n",
    "# Define and use the function in one call\n",
    "print(python_repl.run(\"\"\"\n",
    "def fib(n):\n",
    "    if n <= 1:\n",
    "        return n\n",
    "    return fib(n-1) + fib(n-2)\n",
    "\"\"\"))\n",
    "\n",
    "# Call the function later\n",
    "print(python_repl.run(\"fib(10)\"))\n"
   ]
  },
  {
   "cell_type": "code",
   "execution_count": 48,
   "id": "c5904bd2",
   "metadata": {},
   "outputs": [],
   "source": [
    "# You can create the tool to pass to an agent\n",
    "repl_tool = Tool(\n",
    "    name=\"python_repl\",\n",
    "    description=\"A Python shell. Use this to execute python commands. Input should be\" \\\n",
    "                \" a valid python command. If you want to see the output of a value, you \" \\\n",
    "                \"should print it out with `print(...)`.\",\n",
    "    func=python_repl.run,\n",
    ")"
   ]
  },
  {
   "cell_type": "code",
   "execution_count": 50,
   "id": "d239ad1e",
   "metadata": {},
   "outputs": [],
   "source": [
    "llm_with_tools=llm.bind_tools([repl_tool])"
   ]
  },
  {
   "cell_type": "code",
   "execution_count": 52,
   "id": "d8a027b7",
   "metadata": {},
   "outputs": [],
   "source": [
    "result=llm_with_tools.invoke(\"What is two sum problem? Explain in 50 word or less. and run the code with the tool to show me some test cases\")"
   ]
  },
  {
   "cell_type": "code",
   "execution_count": 53,
   "id": "e418710e",
   "metadata": {},
   "outputs": [
    {
     "data": {
      "text/plain": [
       "AIMessage(content='The Two Sum problem asks you to find two numbers in an array that add up to a specific target. You need to return the indices of these two numbers.\\n\\nHere are some test cases:', additional_kwargs={'function_call': {'name': 'python_repl', 'arguments': '{\"__arg1\": \"\\\\ndef two_sum(nums, target):\\\\n    num_map = {}\\\\n    for i, num in enumerate(nums):\\\\n        complement = target - num\\\\n        if complement in num_map:\\\\n            return [num_map[complement], i]\\\\n        num_map[num] = i\\\\n    return []\\\\n\\\\nprint(two_sum([2, 7, 11, 15], 9))\\\\nprint(two_sum([3, 2, 4], 6))\\\\nprint(two_sum([3, 3], 6))\\\\nprint(two_sum([1, 2, 3, 4, 5], 10))\\\\n\"}'}}, response_metadata={'prompt_feedback': {'block_reason': 0, 'safety_ratings': []}, 'finish_reason': 'STOP', 'model_name': 'gemini-2.5-flash', 'safety_ratings': []}, id='run--eb69a9d0-4c52-4f58-916f-92ed58ba8b82-0', tool_calls=[{'name': 'python_repl', 'args': {'__arg1': '\\ndef two_sum(nums, target):\\n    num_map = {}\\n    for i, num in enumerate(nums):\\n        complement = target - num\\n        if complement in num_map:\\n            return [num_map[complement], i]\\n        num_map[num] = i\\n    return []\\n\\nprint(two_sum([2, 7, 11, 15], 9))\\nprint(two_sum([3, 2, 4], 6))\\nprint(two_sum([3, 3], 6))\\nprint(two_sum([1, 2, 3, 4, 5], 10))\\n'}, 'id': 'fca36480-fd74-4c35-a973-8f0ecc450a87', 'type': 'tool_call'}], usage_metadata={'input_tokens': 105, 'output_tokens': 311, 'total_tokens': 416, 'input_token_details': {'cache_read': 0}, 'output_token_details': {'reasoning': 100}})"
      ]
     },
     "execution_count": 53,
     "metadata": {},
     "output_type": "execute_result"
    }
   ],
   "source": [
    "result"
   ]
  },
  {
   "cell_type": "markdown",
   "id": "d6fd0250",
   "metadata": {},
   "source": [
    "AIMessage(content='The Two Sum problem asks you to find two numbers in an array that add up to a specific target. You need to return the indices of these two numbers.\n",
    "\\n\\nHere are some test cases:',\n",
    "\n",
    " additional_kwargs={'function_call': {'name': 'python_repl', 'arguments': '{\"__arg1\": \n",
    " \n",
    " \"\\\\ndef two_sum(nums, target):\\\\n    num_map = {}\\\\n    for i, num in enumerate(nums):\\\\n        complement = target - num\\\\n        if complement in num_map:\\\\n            return [num_map[complement], i]\\\\n        num_map[num] = i\\\\n    return []\\\\n\\\\nprint(two_sum([2, 7, 11, 15], 9))\\\\nprint(two_sum([3, 2, 4], 6))\\\\nprint(two_sum([3, 3], 6))\\\\nprint(two_sum([1, 2, 3, 4, 5], 10))\\\\n\"}'}},\n",
    " \n",
    " \n",
    "  response_metadata={'prompt_feedback': {'block_reason': 0, 'safety_ratings': []}, 'finish_reason': 'STOP', 'model_name': 'gemini-2.5-flash', 'safety_ratings': []}, id='run--eb69a9d0-4c52-4f58-916f-92ed58ba8b82-0',\n",
    "  \n",
    "   tool_calls=[{'name': 'python_repl', 'args': {'__arg1': '\\ndef two_sum(nums, target):\\n    num_map = {}\\n    for i, num in enumerate(nums):\\n        complement = target - num\\n        if complement in num_map:\\n            return [num_map[complement], i]\\n        num_map[num] = i\\n    return []\\n\\nprint(two_sum([2, 7, 11, 15], 9))\\nprint(two_sum([3, 2, 4], 6))\\nprint(two_sum([3, 3], 6))\\nprint(two_sum([1, 2, 3, 4, 5], 10))\\n'}, \n",
    "   \n",
    "   \n",
    "   'id': 'fca36480-fd74-4c35-a973-8f0ecc450a87', 'type': 'tool_call'}], usage_metadata={'input_tokens': 105, 'output_tokens': 311, 'total_tokens': 416, 'input_token_details': {'cache_read': 0}, 'output_token_details': {'reasoning': 100}})"
   ]
  },
  {
   "cell_type": "code",
   "execution_count": 54,
   "id": "f62f9c6c",
   "metadata": {},
   "outputs": [
    {
     "data": {
      "text/plain": [
       "[{'name': 'python_repl',\n",
       "  'args': {'__arg1': '\\ndef two_sum(nums, target):\\n    num_map = {}\\n    for i, num in enumerate(nums):\\n        complement = target - num\\n        if complement in num_map:\\n            return [num_map[complement], i]\\n        num_map[num] = i\\n    return []\\n\\nprint(two_sum([2, 7, 11, 15], 9))\\nprint(two_sum([3, 2, 4], 6))\\nprint(two_sum([3, 3], 6))\\nprint(two_sum([1, 2, 3, 4, 5], 10))\\n'},\n",
       "  'id': 'fca36480-fd74-4c35-a973-8f0ecc450a87',\n",
       "  'type': 'tool_call'}]"
      ]
     },
     "execution_count": 54,
     "metadata": {},
     "output_type": "execute_result"
    }
   ],
   "source": [
    "result.tool_calls"
   ]
  },
  {
   "cell_type": "code",
   "execution_count": 86,
   "id": "54751cad",
   "metadata": {},
   "outputs": [],
   "source": [
    "if not os.environ.get(\"TAVILY_API_KEY\"):\n",
    "    os.environ[\"TAVILY_API_KEY\"] = getpass.getpass(\"Tavily API key:\\n\")"
   ]
  },
  {
   "cell_type": "code",
   "execution_count": 87,
   "id": "af173ea2",
   "metadata": {},
   "outputs": [],
   "source": [
    "from langchain_tavily import TavilySearch"
   ]
  },
  {
   "cell_type": "code",
   "execution_count": 140,
   "id": "58e92b90",
   "metadata": {},
   "outputs": [],
   "source": [
    "from langchain_core.tools import tool\n",
    "\n",
    "@tool(name_or_callable=\"tavily_search\", description=\"Use Tavily to search the web for current or recent events.\")\n",
    "def tavily_search(query: str) -> str:\n",
    "    search = TavilySearch(  \n",
    "        max_results=5,\n",
    "        topic=\"general\",\n",
    "        )\n",
    "    response = search.invoke({\"query\": query})\n",
    "    # Return a summary of top result(s) — you could customize this\n",
    "    results = response.get(\"results\", [])\n",
    "    if not results:\n",
    "        return \"No results found.\"\n",
    "    return results[0].get(\"content\", \"No content available.\")"
   ]
  },
  {
   "cell_type": "code",
   "execution_count": 169,
   "id": "05a7b20e",
   "metadata": {},
   "outputs": [],
   "source": [
    "def generate_hint(question: str) -> str:\n",
    "    \"\"\"Generate a helpful hint for a DSA problem without solving it.\n",
    "    input: question (str): The DSA problem to generate a hint for.\n",
    "    output: str: A helpful hint for the DSA problem.\"\"\"\n",
    "    \n",
    "    return llm.invoke(f\"Give a helpful hint for this DSA problem without solving it: {question}\")\n"
   ]
  },
  {
   "cell_type": "code",
   "execution_count": 170,
   "id": "d2979840",
   "metadata": {},
   "outputs": [],
   "source": [
    "def generate_test_cases(problem_description: str) -> str:\n",
    "    \"\"\"Use this to generate test cases for DSA problems.\n",
    "    input: problem_description - the DSA problem statement\n",
    "    output: 3 test cases without solving the problem\"\"\"\n",
    "    \n",
    "    return llm.invoke(f\"Create 3 test cases for this DSA problem without solving it: {problem_description}\")\n"
   ]
  },
  {
   "cell_type": "code",
   "execution_count": 171,
   "id": "834f34a2",
   "metadata": {},
   "outputs": [],
   "source": [
    "def bug_hint_tool(code: str) -> str:\n",
    "    \"\"\"Use this to analyze code for logic issues and provide a subtle hint.\n",
    "    input: code - the code to analyze\n",
    "    output: str - a subtle hint about potential logic issues in the code.\n",
    "    \"\"\"\n",
    "\n",
    "    return llm.invoke(f\"Analyze this code for logic issues and give a subtle hint: {code}\")\n"
   ]
  },
  {
   "cell_type": "code",
   "execution_count": 172,
   "id": "529b9765",
   "metadata": {},
   "outputs": [],
   "source": [
    "llm_with_tools = llm.bind_tools([repl_tool, tavily_search,generate_hint, generate_test_cases, bug_hint_tool])"
   ]
  },
  {
   "cell_type": "code",
   "execution_count": 173,
   "id": "bb04ffe6",
   "metadata": {},
   "outputs": [],
   "source": [
    "from langchain_core.messages import HumanMessage, ToolMessage, AIMessage\n",
    "from langgraph.graph import StateGraph, END"
   ]
  },
  {
   "cell_type": "code",
   "execution_count": 174,
   "id": "90311a98",
   "metadata": {},
   "outputs": [],
   "source": [
    "from typing import Annotated\n",
    "from typing_extensions import TypedDict\n",
    "from langgraph.graph.message import add_messages\n",
    "from langchain_core.messages import AnyMessage\n",
    "\n",
    "class State(TypedDict):\n",
    "    messages: Annotated[list[AnyMessage], add_messages]\n"
   ]
  },
  {
   "cell_type": "code",
   "execution_count": 175,
   "id": "f1dc7761",
   "metadata": {},
   "outputs": [],
   "source": [
    "from typing import Callable\n",
    "\n",
    "# You must register your tool functions in a dictionary\n",
    "tool_map: dict[str, Callable] = {\n",
    "    \"python_repl\": python_repl.run,\n",
    "    \"search_tool\": tavily_search,\n",
    "    \"generate_hint\": generate_hint,\n",
    "    \"generate_test_cases\": generate_test_cases,\n",
    "    \"bug_hint_tool\": bug_hint_tool,\n",
    "}"
   ]
  },
  {
   "cell_type": "code",
   "execution_count": 178,
   "id": "025d1f1c",
   "metadata": {},
   "outputs": [],
   "source": [
    "def execute_tools(state: State) -> State:\n",
    "    last_message = state[\"messages\"][-1]\n",
    "    tool_outputs = []\n",
    "\n",
    "    for tool_call in last_message.tool_calls:\n",
    "        tool_name = tool_call[\"name\"]\n",
    "        tool_args = tool_call[\"args\"]\n",
    "\n",
    "        # Get function from registered tool map\n",
    "        tool_func = tool_map.get(tool_name)\n",
    "\n",
    "        if tool_func is None:\n",
    "            output = f\"[ERROR] Unknown tool: {tool_name}\"\n",
    "        else:\n",
    "            try:\n",
    "                # Prefer full argument dict if function accepts it\n",
    "                output = tool_func(tool_args)\n",
    "            except Exception as e:\n",
    "                output = f\"[ERROR while running {tool_name}]: {e}\"\n",
    "\n",
    "        tool_outputs.append(\n",
    "            ToolMessage(\n",
    "                tool_call_id=tool_call[\"id\"],\n",
    "                content=output\n",
    "            )\n",
    "        )\n",
    "\n",
    "    return {\"messages\": state[\"messages\"] + tool_outputs}\n"
   ]
  },
  {
   "cell_type": "code",
   "execution_count": 179,
   "id": "4ac45aad",
   "metadata": {},
   "outputs": [],
   "source": [
    "def should_call_tool(state: State) -> str:\n",
    "    last_message = state[\"messages\"][-1]\n",
    "    if isinstance(last_message, AIMessage) and last_message.tool_calls:\n",
    "        return \"call_tool\"\n",
    "    return END"
   ]
  },
  {
   "cell_type": "code",
   "execution_count": 180,
   "id": "9cfbc2a3",
   "metadata": {},
   "outputs": [],
   "source": [
    "def call_llm(state: State) -> State:\n",
    "    result = llm_with_tools.invoke(state[\"messages\"])\n",
    "    return {\"messages\": [result]}"
   ]
  },
  {
   "cell_type": "code",
   "execution_count": 78,
   "id": "97a7379c",
   "metadata": {},
   "outputs": [],
   "source": [
    "graph = StateGraph(State)\n",
    "\n",
    "graph.add_node(\"call_llm\", call_llm)\n",
    "graph.add_node(\"call_tool\", execute_tools)\n",
    "graph.set_entry_point(\"call_llm\")\n",
    "graph.add_conditional_edges(\"call_llm\", should_call_tool)\n",
    "graph.add_edge(\"call_tool\", \"call_llm\")\n",
    "\n",
    "app = graph.compile()\n"
   ]
  },
  {
   "cell_type": "code",
   "execution_count": 142,
   "id": "4f40fd96",
   "metadata": {},
   "outputs": [],
   "source": [
    "inputs = {\n",
    "    \"messages\": [HumanMessage(content=\"What is two sum problem? Show test cases using Python and run it show output with proper debugging.\")]\n",
    "}\n",
    "\n",
    "final_state = app.invoke(inputs)\n"
   ]
  },
  {
   "cell_type": "code",
   "execution_count": 143,
   "id": "9f1f2fb4",
   "metadata": {},
   "outputs": [
    {
     "name": "stdout",
     "output_type": "stream",
     "text": [
      "================================\u001b[1m Human Message \u001b[0m=================================\n",
      "\n",
      "What is two sum problem? Show test cases using Python.\n",
      "==================================\u001b[1m Ai Message \u001b[0m==================================\n",
      "\n",
      "The Two Sum problem is a classic algorithmic challenge. Given an array of integers `nums` and an integer `target`, the goal is to find the indices of two numbers in the array that add up to the `target`. You can assume that each input will have exactly one solution, and you may not use the same element twice.\n",
      "\n",
      "Here's an example implementation and test cases in Python:\n",
      "Tool Calls:\n",
      "  python_repl (8dc0428c-6dd6-495c-ac57-ad20849f9ecb)\n",
      " Call ID: 8dc0428c-6dd6-495c-ac57-ad20849f9ecb\n",
      "  Args:\n",
      "    __arg1: \n",
      "def two_sum(nums, target):\n",
      "    num_map = {}\n",
      "    for i, num in enumerate(nums):\n",
      "        complement = target - num\n",
      "        if complement in num_map:\n",
      "            return [num_map[complement], i]\n",
      "        num_map[num] = i\n",
      "    return []\n",
      "\n",
      "# Test Cases\n",
      "print(f\"Test Case 1: nums=[2, 7, 11, 15], target=9 -> {two_sum([2, 7, 11, 15], 9)}\")\n",
      "print(f\"Test Case 2: nums=[3, 2, 4], target=6 -> {two_sum([3, 2, 4], 6)}\")\n",
      "print(f\"Test Case 3: nums=[3, 3], target=6 -> {two_sum([3, 3], 6)}\")\n",
      "print(f\"Test Case 4: nums=[1, 5, 9, 13], target=10 -> {two_sum([1, 5, 9, 13], 10)}\")\n",
      "print(f\"Test Case 5: nums=[0, 4, 3, 0], target=0 -> {two_sum([0, 4, 3, 0], 0)}\")\n",
      "=================================\u001b[1m Tool Message \u001b[0m=================================\n",
      "\n",
      "Test Case 1: nums=[2, 7, 11, 15], target=9 -> [0, 1]\n",
      "Test Case 2: nums=[3, 2, 4], target=6 -> [1, 2]\n",
      "Test Case 3: nums=[3, 3], target=6 -> [0, 1]\n",
      "Test Case 4: nums=[1, 5, 9, 13], target=10 -> [0, 2]\n",
      "Test Case 5: nums=[0, 4, 3, 0], target=0 -> [0, 3]\n",
      "\n",
      "==================================\u001b[1m Ai Message \u001b[0m==================================\n",
      "\n",
      "[\"The Two Sum problem is a classic coding challenge where you are given an array of integers `nums` and an integer `target`. The goal is to find the indices of two numbers in the array that add up to the `target`. You typically assume that there is exactly one solution and that you cannot use the same element twice.\\n\\nHere's a Python solution using a hash map (dictionary) for efficient lookup, along with several test cases:\", '```python\\ndef two_sum(nums, target):\\n    \"\"\"\\n    Finds two numbers in an array that add up to a specific target.\\n\\n    Args:\\n        nums (list): A list of integers.\\n        target (int): The target sum.\\n\\n    Returns:\\n        list: A list containing the indices of the two numbers that sum up to the target,\\n              or an empty list if no such pair is found.\\n    \"\"\"\\n    num_map = {}  # Stores number -> index\\n    for i, num in enumerate(nums):\\n        complement = target - num\\n        if complement in num_map:\\n            return [num_map[complement], i]\\n        num_map[num] = i\\n    return [] # Should not be reached if exactly one solution exists\\n```', '\\n\\n**Test Cases:**']\n",
      "Tool Calls:\n",
      "  python_repl (353a7e00-cf63-414a-b3ab-6aedde3b43f9)\n",
      " Call ID: 353a7e00-cf63-414a-b3ab-6aedde3b43f9\n",
      "  Args:\n",
      "    __arg1: \n",
      "def two_sum(nums, target):\n",
      "    num_map = {}\n",
      "    for i, num in enumerate(nums):\n",
      "        complement = target - num\n",
      "        if complement in num_map:\n",
      "            return [num_map[complement], i]\n",
      "        num_map[num] = i\n",
      "    return []\n",
      "\n",
      "# Test Cases\n",
      "print(f\"Test Case 1: nums=[2, 7, 11, 15], target=9 -> {two_sum([2, 7, 11, 15], 9)}\")\n",
      "print(f\"Test Case 2: nums=[3, 2, 4], target=6 -> {two_sum([3, 2, 4], 6)}\")\n",
      "print(f\"Test Case 3: nums=[3, 3], target=6 -> {two_sum([3, 3], 6)}\")\n",
      "print(f\"Test Case 4: nums=[1, 5, 9, 13], target=10 -> {two_sum([1, 5, 9, 13], 10)}\")\n",
      "print(f\"Test Case 5: nums=[0, 4, 3, 0], target=0 -> {two_sum([0, 4, 3, 0], 0)}\")\n",
      "=================================\u001b[1m Tool Message \u001b[0m=================================\n",
      "\n",
      "Test Case 1: nums=[2, 7, 11, 15], target=9 -> [0, 1]\n",
      "Test Case 2: nums=[3, 2, 4], target=6 -> [1, 2]\n",
      "Test Case 3: nums=[3, 3], target=6 -> [0, 1]\n",
      "Test Case 4: nums=[1, 5, 9, 13], target=10 -> [0, 2]\n",
      "Test Case 5: nums=[0, 4, 3, 0], target=0 -> [0, 3]\n",
      "\n",
      "==================================\u001b[1m Ai Message \u001b[0m==================================\n",
      "\n",
      "['The \"Two Sum\" problem is a classic algorithmic problem. Given an array of integers `nums` and an integer `target`, the goal is to find the indices of two numbers in the array such that they add up to the `target`. You can assume that each input would have exactly one solution, and you may not use the same element twice.\\n\\nHere\\'s a Python solution and several test cases:', '```python\\ndef two_sum(nums, target):\\n    \"\"\"\\n    Finds two numbers in an array that add up to a specific target.\\n\\n    Args:\\n        nums (list): A list of integers.\\n        target (int): The target sum.\\n\\n    Returns:\\n        list: A list containing the indices of the two numbers that sum to the target,\\n              or an empty list if no such pair is found.\\n    \"\"\"\\n    num_map = {}  # Dictionary to store numbers and their indices\\n    for i, num in enumerate(nums):\\n        complement = target - num\\n        if complement in num_map:\\n            return [num_map[complement], i]\\n        num_map[num] = i\\n    return [] # Should not be reached based on problem constraints (exactly one solution)\\n\\n```', \"\\n\\n**Explanation of the solution:**\\n\\n1.  **`num_map = {}`**: A dictionary (hash map) is used to store numbers encountered so far along with their indices. This allows for efficient lookups (O(1) on average).\\n2.  **`for i, num in enumerate(nums):`**: We iterate through the input list `nums` using `enumerate` to get both the index `i` and the value `num`.\\n3.  **`complement = target - num`**: For each `num`, we calculate the `complement` needed to reach the `target`. If `num + complement == target`, then `complement` is the other number we are looking for.\\n4.  **`if complement in num_map:`**: We check if this `complement` already exists as a key in our `num_map`. If it does, it means we have found the two numbers.\\n5.  **`return [num_map[complement], i]`**: If the `complement` is found, we return its stored index (`num_map[complement]`) and the current number's index `i`.\\n6.  **`num_map[num] = i`**: If the `complement` is not found, it means the current `num` is not part of a pair found *yet*. So, we add the current `num` and its index `i` to the `num_map` for future lookups.\\n7.  **`return []`**: This line would be reached if no solution is found, but the problem statement usually guarantees that a solution exists.\\n\\n**Test Cases:**\\n\\nHere are the test cases and their outputs:\\n\\n*   **Test Case 1:** `nums=[2, 7, 11, 15]`, `target=9`\\n    *   Output: `[0, 1]` (Because `nums[0]` (2) + `nums[1]` (7) = 9)\\n\\n*   **Test Case 2:** `nums=[3, 2, 4]`, `target=6`\\n    *   Output: `[1, 2]` (Because `nums[1]` (2) + `nums[2]` (4) = 6)\\n\\n*   **Test Case 3:** `nums=[3, 3]`, `target=6`\\n    *   Output: `[0, 1]` (Because `nums[0]` (3) + `nums[1]` (3) = 6)\\n\\n*   **Test Case 4:** `nums=[1, 5, 9, 13]`, `target=10`\\n    *   Output: `[0, 2]` (Because `nums[0]` (1) + `nums[2]` (9) = 10)\\n\\n*   **Test Case 5:** `nums=[0, 4, 3, 0]`, `target=0`\\n    *   Output: `[0, 3]` (Because `nums[0]` (0) + `nums[3]` (0) = 0)\"]\n"
     ]
    }
   ],
   "source": [
    "for message in final_state[\"messages\"]:\n",
    "    message.pretty_print()"
   ]
  },
  {
   "cell_type": "code",
   "execution_count": 144,
   "id": "a85a199d",
   "metadata": {},
   "outputs": [],
   "source": []
  },
  {
   "cell_type": "code",
   "execution_count": 148,
   "id": "9d4ab41d",
   "metadata": {},
   "outputs": [],
   "source": [
    "def call_llm(state: State) -> State:\n",
    "    result = llm_with_tools.invoke(state[\"messages\"])\n",
    "    return {\"messages\": [result]}"
   ]
  }
 ],
 "metadata": {
  "kernelspec": {
   "display_name": "dsa_preparation",
   "language": "python",
   "name": "python3"
  },
  "language_info": {
   "codemirror_mode": {
    "name": "ipython",
    "version": 3
   },
   "file_extension": ".py",
   "mimetype": "text/x-python",
   "name": "python",
   "nbconvert_exporter": "python",
   "pygments_lexer": "ipython3",
   "version": "3.11.13"
  }
 },
 "nbformat": 4,
 "nbformat_minor": 5
}
