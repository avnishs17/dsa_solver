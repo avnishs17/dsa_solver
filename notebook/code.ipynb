{
 "cells": [
  {
   "cell_type": "code",
   "execution_count": 74,
   "id": "1bfca3d1",
   "metadata": {},
   "outputs": [
    {
     "data": {
      "text/plain": [
       "True"
      ]
     },
     "execution_count": 74,
     "metadata": {},
     "output_type": "execute_result"
    }
   ],
   "source": [
    "from dotenv import load_dotenv\n",
    "import os\n",
    "import getpass\n",
    "\n",
    "load_dotenv()"
   ]
  },
  {
   "cell_type": "code",
   "execution_count": 75,
   "id": "e6dafea2",
   "metadata": {},
   "outputs": [],
   "source": [
    "if \"GOOGLE_API_KEY\" not in os.environ:\n",
    "    os.environ[\"GOOGLE_API_KEY\"] = getpass.getpass(\"Enter your Google AI API key: \")"
   ]
  },
  {
   "cell_type": "code",
   "execution_count": 76,
   "id": "a5a777ad",
   "metadata": {},
   "outputs": [],
   "source": [
    "if \"LANGSMITH_API_KEY\" not in os.environ:\n",
    "    os.environ[\"LANGSMITH_API_KEY\"] = getpass.getpass(\"Enter your LangSmith API key: \")\n",
    "os.environ[\"LANGSMITH_TRACING\"] = \"true\""
   ]
  },
  {
   "cell_type": "code",
   "execution_count": 77,
   "id": "3ff02a19",
   "metadata": {},
   "outputs": [],
   "source": [
    "from langchain_groq import ChatGroq\n",
    "\n",
    "llm = ChatGroq(\n",
    "    model=\"moonshotai/kimi-k2-instruct\"\n",
    ")"
   ]
  },
  {
   "cell_type": "code",
   "execution_count": 78,
   "id": "9557edca",
   "metadata": {},
   "outputs": [],
   "source": [
    "result=llm.invoke('What is two sum problem? Explain in 50 word or less.')"
   ]
  },
  {
   "cell_type": "code",
   "execution_count": 79,
   "id": "67642504",
   "metadata": {},
   "outputs": [
    {
     "data": {
      "text/plain": [
       "'Given an array and a target, find two numbers whose sum equals the target; return their indices.'"
      ]
     },
     "execution_count": 79,
     "metadata": {},
     "output_type": "execute_result"
    }
   ],
   "source": [
    "result.content"
   ]
  },
  {
   "cell_type": "markdown",
   "id": "4656fe24",
   "metadata": {},
   "source": [
    "The Two Sum problem asks you to find two numbers in a given array of integers that sum up to a specific target number. You typically return the indices of these two numbers. It's a classic problem, often solved efficiently using a hash map."
   ]
  },
  {
   "cell_type": "code",
   "execution_count": 80,
   "id": "2797515d",
   "metadata": {},
   "outputs": [],
   "source": [
    "from langchain_core.tools import Tool\n",
    "from langchain_experimental.utilities import PythonREPL"
   ]
  },
  {
   "cell_type": "code",
   "execution_count": 81,
   "id": "19d33347",
   "metadata": {},
   "outputs": [],
   "source": [
    "python_repl = PythonREPL()"
   ]
  },
  {
   "cell_type": "code",
   "execution_count": 82,
   "id": "ac6e5982",
   "metadata": {},
   "outputs": [
    {
     "data": {
      "text/plain": [
       "'2\\n'"
      ]
     },
     "execution_count": 82,
     "metadata": {},
     "output_type": "execute_result"
    }
   ],
   "source": [
    "python_repl.run(\"print(1+1)\")"
   ]
  },
  {
   "cell_type": "code",
   "execution_count": 83,
   "id": "df727d9b",
   "metadata": {},
   "outputs": [
    {
     "data": {
      "text/plain": [
       "'NameError(\"name \\'fib\\' is not defined\")'"
      ]
     },
     "execution_count": 83,
     "metadata": {},
     "output_type": "execute_result"
    }
   ],
   "source": [
    "python_repl.run(\"\"\"\n",
    "def fib(n):\n",
    "    if n <= 1:\n",
    "        return n\n",
    "    return fib(n-1) + fib(n-2)\n",
    "\n",
    "fib(10)\n",
    "\"\"\")\n"
   ]
  },
  {
   "cell_type": "code",
   "execution_count": 84,
   "id": "bf324cbb",
   "metadata": {},
   "outputs": [],
   "source": [
    "from langchain_experimental.utilities import PythonREPL\n",
    "import sys\n",
    "from io import StringIO\n",
    "\n",
    "class PersistentPythonREPLTool(PythonREPL):\n",
    "    def __init__(self):\n",
    "        super().__init__()\n",
    "        self._globals = {}\n",
    "\n",
    "    def run(self, command: str) -> str:\n",
    "        # Capture stdout\n",
    "        old_stdout = sys.stdout\n",
    "        sys.stdout = captured_output = StringIO()\n",
    "        \n",
    "        try:\n",
    "            # First try eval (single expression)\n",
    "            result = eval(command, self._globals)\n",
    "            output = captured_output.getvalue()\n",
    "            if output:\n",
    "                return output + str(result)\n",
    "            return str(result)\n",
    "        except SyntaxError:\n",
    "            # If it's a statement block, use exec\n",
    "            try:\n",
    "                exec(command, self._globals)\n",
    "                output = captured_output.getvalue()\n",
    "                return output if output else \"Executed successfully with no output.\"\n",
    "            except Exception as e:\n",
    "                output = captured_output.getvalue()\n",
    "                return output + repr(e) if output else repr(e)\n",
    "        except Exception as e:\n",
    "            output = captured_output.getvalue()\n",
    "            return output + repr(e) if output else repr(e)\n",
    "        finally:\n",
    "            # Restore stdout\n",
    "            sys.stdout = old_stdout"
   ]
  },
  {
   "cell_type": "code",
   "execution_count": 85,
   "id": "e8b711dd",
   "metadata": {},
   "outputs": [
    {
     "name": "stdout",
     "output_type": "stream",
     "text": [
      "Testing fixed REPL tool:\n",
      "Function defined successfully!\n",
      "Running Two Sum function...\n",
      "Result: [0, 1]\n",
      "\n"
     ]
    }
   ],
   "source": [
    "# Create a new instance with the fixed version\n",
    "python_repl = PersistentPythonREPLTool()\n",
    "\n",
    "# Test the fixed tool with print statements\n",
    "print(\"Testing fixed REPL tool:\")\n",
    "print(python_repl.run(\"\"\"\n",
    "def twoSum(nums, target):\n",
    "    print(\"Running Two Sum function...\")\n",
    "    num_map = {}\n",
    "    for i, num in enumerate(nums):\n",
    "        complement = target - num\n",
    "        if complement in num_map:\n",
    "            return [num_map[complement], i]\n",
    "        num_map[num] = i\n",
    "    return []\n",
    "\n",
    "print(\"Function defined successfully!\")\n",
    "result = twoSum([2, 7, 11, 15], 9)\n",
    "print(f\"Result: {result}\")\n",
    "\"\"\"))\n"
   ]
  },
  {
   "cell_type": "code",
   "execution_count": 86,
   "id": "c5904bd2",
   "metadata": {},
   "outputs": [],
   "source": [
    "# You can create the tool to pass to an agent with the fixed python_repl\n",
    "repl_tool = Tool(\n",
    "    name=\"python_repl\",\n",
    "    description=\"A Python shell. Use this to execute python commands. Input should be\" \\\n",
    "                \" a valid python command. If you want to see the output of a value, you \" \\\n",
    "                \"should print it out with `print(...)`.\",\n",
    "    func=python_repl.run,\n",
    ")"
   ]
  },
  {
   "cell_type": "code",
   "execution_count": 87,
   "id": "d239ad1e",
   "metadata": {},
   "outputs": [],
   "source": [
    "llm_with_tools=llm.bind_tools([repl_tool])"
   ]
  },
  {
   "cell_type": "code",
   "execution_count": 88,
   "id": "d8a027b7",
   "metadata": {},
   "outputs": [],
   "source": [
    "result=llm_with_tools.invoke(\"What is two sum problem? Explain in 50 word or less. and run the code with the tool to show me some test cases\")"
   ]
  },
  {
   "cell_type": "code",
   "execution_count": 89,
   "id": "e418710e",
   "metadata": {},
   "outputs": [
    {
     "data": {
      "text/plain": [
       "AIMessage(content='Two Sum: Given array of integers and target, return indices of two numbers that add to target. Assume exactly one solution.', additional_kwargs={}, response_metadata={'token_usage': {'completion_tokens': 26, 'prompt_tokens': 107, 'total_tokens': 133, 'completion_time': 0.088009692, 'prompt_time': 0.06867087, 'queue_time': 0.31770883, 'total_time': 0.156680562}, 'model_name': 'moonshotai/kimi-k2-instruct', 'system_fingerprint': 'fp_b8565bb333', 'service_tier': 'on_demand', 'finish_reason': 'stop', 'logprobs': None}, id='run--92d7a39c-0649-48cd-b7fa-ea5a3ffc7201-0', usage_metadata={'input_tokens': 107, 'output_tokens': 26, 'total_tokens': 133})"
      ]
     },
     "execution_count": 89,
     "metadata": {},
     "output_type": "execute_result"
    }
   ],
   "source": [
    "result"
   ]
  },
  {
   "cell_type": "code",
   "execution_count": 90,
   "id": "f62f9c6c",
   "metadata": {},
   "outputs": [
    {
     "data": {
      "text/plain": [
       "[]"
      ]
     },
     "execution_count": 90,
     "metadata": {},
     "output_type": "execute_result"
    }
   ],
   "source": [
    "result.tool_calls"
   ]
  },
  {
   "cell_type": "code",
   "execution_count": 91,
   "id": "54751cad",
   "metadata": {},
   "outputs": [],
   "source": [
    "if not os.environ.get(\"TAVILY_API_KEY\"):\n",
    "    os.environ[\"TAVILY_API_KEY\"] = getpass.getpass(\"Tavily API key:\\n\")"
   ]
  },
  {
   "cell_type": "code",
   "execution_count": 92,
   "id": "af173ea2",
   "metadata": {},
   "outputs": [],
   "source": [
    "from langchain_tavily import TavilySearch"
   ]
  },
  {
   "cell_type": "code",
   "execution_count": 93,
   "id": "58e92b90",
   "metadata": {},
   "outputs": [],
   "source": [
    "from langchain_core.tools import tool\n",
    "\n",
    "@tool(name_or_callable=\"tavily_search\", description=\"Use Tavily to search the web for current or recent events.\")\n",
    "def tavily_search(query: str) -> str:\n",
    "    search = TavilySearch(  \n",
    "        max_results=5,\n",
    "        topic=\"general\",\n",
    "        )\n",
    "    response = search.invoke({\"query\": query})\n",
    "    # Return a summary of top result(s) — you could customize this\n",
    "    results = response.get(\"results\", [])\n",
    "    if not results:\n",
    "        return \"No results found.\"\n",
    "    return results[0].get(\"content\", \"No content available.\")"
   ]
  },
  {
   "cell_type": "code",
   "execution_count": 94,
   "id": "05a7b20e",
   "metadata": {},
   "outputs": [],
   "source": [
    "def generate_hint(question: str) -> str:\n",
    "    \"\"\"Generate a helpful hint for a DSA problem without solving it.\n",
    "    input: question (str): The DSA problem to generate a hint for.\n",
    "    output: str: A helpful hint for the DSA problem.\"\"\"\n",
    "    \n",
    "    return llm.invoke(f\"Give a helpful hint for this DSA problem without solving it: {question}\")\n"
   ]
  },
  {
   "cell_type": "code",
   "execution_count": 95,
   "id": "d2979840",
   "metadata": {},
   "outputs": [],
   "source": [
    "def generate_test_cases(problem_description: str) -> str:\n",
    "    \"\"\"Use this to generate test cases for DSA problems.\n",
    "    input: problem_description - the DSA problem statement\n",
    "    output: 3 test cases without solving the problem\"\"\"\n",
    "    \n",
    "    return llm.invoke(f\"Create 3 test cases for this DSA problem without solving it: {problem_description}\")\n"
   ]
  },
  {
   "cell_type": "code",
   "execution_count": 96,
   "id": "834f34a2",
   "metadata": {},
   "outputs": [],
   "source": [
    "def bug_hint_tool(code: str) -> str:\n",
    "    \"\"\"Use this to analyze code for logic issues and provide a subtle hint.\n",
    "    input: code - the code to analyze\n",
    "    output: str - a subtle hint about potential logic issues in the code.\n",
    "    \"\"\"\n",
    "\n",
    "    return llm.invoke(f\"Analyze this code for logic issues and give a subtle hint: {code}\")\n"
   ]
  },
  {
   "cell_type": "code",
   "execution_count": 97,
   "id": "c9fc04ca",
   "metadata": {},
   "outputs": [],
   "source": [
    "tools = [repl_tool, tavily_search,generate_hint, generate_test_cases, bug_hint_tool]"
   ]
  },
  {
   "cell_type": "code",
   "execution_count": 98,
   "id": "529b9765",
   "metadata": {},
   "outputs": [],
   "source": [
    "llm_with_tools = llm.bind_tools(tools)"
   ]
  },
  {
   "cell_type": "code",
   "execution_count": 101,
   "id": "90311a98",
   "metadata": {},
   "outputs": [],
   "source": [
    "from typing import Annotated\n",
    "from typing_extensions import TypedDict\n",
    "from langgraph.graph.message import add_messages\n",
    "from langchain_core.messages import HumanMessage,SystemMessage,AnyMessage\n",
    "from langgraph.graph import StateGraph, START\n",
    "\n",
    "class State(TypedDict):\n",
    "    messages: Annotated[list[AnyMessage], add_messages]\n"
   ]
  },
  {
   "cell_type": "code",
   "execution_count": 102,
   "id": "147af9ae",
   "metadata": {},
   "outputs": [],
   "source": [
    "sys_msg = SystemMessage(content=(\n",
    "    \"You are a Socratic DSA mentor. Your primary goal is to guide users to a solution through questions and hints, not to provide the answer directly. \"\n",
    "    \"Engage in a conversation. Ask clarifying questions to understand the user's thought process. \"\n",
    "    \"You have access to the following tools:\\n\"\n",
    "    \"- `repl_tool`: To execute python code.\\n\"\n",
    "    \"- `tavily_search`: To search the web.\\n\"\n",
    "    \"- `generate_hint`: To provide hints for a problem.\\n\"\n",
    "    \"- `generate_test_cases`: To generate test cases for a problem.\\n\"\n",
    "    \"- `bug_hint_tool`: To find bugs in code and provide hints.\\n\"\n",
    "    \"Only provide the full code solution if the user explicitly asks for it or is completely stuck after several hints. \"\n",
    "    \"Your role is to foster learning by encouraging the user to think for themselves.\"\n",
    "))\n"
   ]
  },
  {
   "cell_type": "code",
   "execution_count": 103,
   "id": "b2b9077f",
   "metadata": {},
   "outputs": [],
   "source": [
    "from langgraph.prebuilt import tools_condition, ToolNode"
   ]
  },
  {
   "cell_type": "code",
   "execution_count": 104,
   "id": "2a6cf091",
   "metadata": {},
   "outputs": [],
   "source": [
    "from langgraph.graph import MessagesState\n",
    "def assistant(state:MessagesState):\n",
    "    return {\"messages\":[llm_with_tools.invoke([sys_msg] + state[\"messages\"])]}\n"
   ]
  },
  {
   "cell_type": "code",
   "execution_count": 105,
   "id": "97a7379c",
   "metadata": {},
   "outputs": [],
   "source": [
    "graph = StateGraph(State)\n",
    "graph.add_node(\"assistant\", assistant)\n",
    "graph.add_node(\"tools\", ToolNode(tools))\n",
    "graph.add_edge(START,\"assistant\")\n",
    "graph.add_conditional_edges(\"assistant\", tools_condition)\n",
    "graph.add_edge(\"tools\", \"assistant\")\n",
    "app = graph.compile()"
   ]
  },
  {
   "cell_type": "code",
   "execution_count": 106,
   "id": "8d5b5f45",
   "metadata": {},
   "outputs": [
    {
     "data": {
      "image/png": "[encoded data removed]",
      "text/plain": [
       "<IPython.core.display.Image object>"
      ]
     },
     "metadata": {},
     "output_type": "display_data"
    }
   ],
   "source": [
    "from IPython.display import Image, display\n",
    "display(Image(app.get_graph().draw_mermaid_png()))"
   ]
  },
  {
   "cell_type": "code",
   "execution_count": 107,
   "id": "4f40fd96",
   "metadata": {},
   "outputs": [],
   "source": [
    "inputs = {\n",
    "    \"messages\": [HumanMessage(content=\"What is two sum problem? generate test cases and run the test cases on code you generate,show output with proper debugging.\")]\n",
    "}\n",
    "final_state = app.invoke(inputs)"
   ]
  },
  {
   "cell_type": "code",
   "execution_count": 108,
   "id": "dec3df25",
   "metadata": {},
   "outputs": [
    {
     "name": "stdout",
     "output_type": "stream",
     "text": [
      "============================== HUMAN ==============================\n",
      "================================\u001b[1m Human Message \u001b[0m=================================\n",
      "\n",
      "What is two sum problem? generate test cases and run the test cases on code you generate,show output with proper debugging.\n",
      "============================== AI ==============================\n",
      "==================================\u001b[1m Ai Message \u001b[0m==================================\n",
      "Tool Calls:\n",
      "  generate_test_cases (0)\n",
      " Call ID: 0\n",
      "  Args:\n",
      "    problem_description: Two Sum problem: Given an array of integers nums and an integer target, return indices of the two numbers such that they add up to target. You may assume that each input would have exactly one solution, and you may not use the same element twice. You can return the answer in any order.\n",
      "============================== TOOL ==============================\n",
      "=================================\u001b[1m Tool Message \u001b[0m=================================\n",
      "Name: generate_test_cases\n",
      "\n",
      "content='Below are three independent test cases for the Two-Sum problem.  \\nEach test case lists the input array, the target value, and the expected indices that should be returned (any order is acceptable).\\n\\nTest Case 1  \\nInput array: [2, 7, 11, 15]  \\nTarget: 9  \\nExpected indices: [0, 1]   (because 2 + 7 = 9)\\n\\nTest Case 2  \\nInput array: [3, 2, 4]  \\nTarget: 6  \\nExpected indices: [1, 2]   (because 2 + 4 = 6)\\n\\nTest Case 3  \\nInput array: [3, 3]  \\nTarget: 6  \\nExpected indices: [0, 1]   (because 3 + 3 = 6)' additional_kwargs={} response_metadata={'token_usage': {'completion_tokens': 173, 'prompt_tokens': 90, 'total_tokens': 263, 'completion_time': 0.367976861, 'prompt_time': 0.00608292, 'queue_time': 0.288774561, 'total_time': 0.374059781}, 'model_name': 'moonshotai/kimi-k2-instruct', 'system_fingerprint': 'fp_c5bd0a648b', 'service_tier': 'on_demand', 'finish_reason': 'stop', 'logprobs': None} id='run--76dcfd1f-90fa-4020-9f3a-3162a6d327b9-0' usage_metadata={'input_tokens': 90, 'output_tokens': 173, 'total_tokens': 263}\n",
      "============================== AI ==============================\n",
      "==================================\u001b[1m Ai Message \u001b[0m==================================\n",
      "Tool Calls:\n",
      "  python_repl (1)\n",
      " Call ID: 1\n",
      "  Args:\n",
      "    __arg1: # Two implementations of Two-Sum:\n",
      "# 1. Brute-force O(n²)\n",
      "# 2. Hash-map O(n)\n",
      "\n",
      "def two_sum_bruteforce(nums, target):\n",
      "    \"\"\"\n",
      "    Brute-force O(n²) approach.\n",
      "    Iterates over every pair (i, j) with i < j and checks if nums[i] + nums[j] == target.\n",
      "    \"\"\"\n",
      "    n = len(nums)\n",
      "    for i in range(n):\n",
      "        for j in range(i + 1, n):\n",
      "            if nums[i] + nums[j] == target:\n",
      "                return [i, j]\n",
      "    return None  # Should never reach here per problem statement\n",
      "\n",
      "def two_sum_hashmap(nums, target):\n",
      "    \"\"\"\n",
      "    Hash-map O(n) approach.\n",
      "    Uses a dictionary to store previously seen numbers and their indices.\n",
      "    For each number x at index i, checks if target - x exists in the map.\n",
      "    \"\"\"\n",
      "    seen = {}  # value -> index\n",
      "    for i, num in enumerate(nums):\n",
      "        complement = target - num\n",
      "        if complement in seen:\n",
      "            return [seen[complement], i]\n",
      "        seen[num] = i\n",
      "    return None  # Should never reach here per problem statement\n",
      "\n",
      "# Generated test cases from the previous step\n",
      "test_cases = [\n",
      "    {\"nums\": [2, 7, 11, 15], \"target\": 9, \"expected\": [0, 1]},\n",
      "    {\"nums\": [3, 2, 4], \"target\": 6, \"expected\": [1, 2]},\n",
      "    {\"nums\": [3, 3], \"target\": 6, \"expected\": [0, 1]},\n",
      "]\n",
      "\n",
      "print(\"=== Two-Sum Test Runner ===\\n\")\n",
      "\n",
      "for idx, tc in enumerate(test_cases, 1):\n",
      "    nums = tc[\"nums\"]\n",
      "    target = tc[\"target\"]\n",
      "    expected = tc[\"expected\"]\n",
      "\n",
      "    print(f\"Test Case {idx}:\")\n",
      "    print(f\"  nums   = {nums}\")\n",
      "    print(f\"  target = {target}\")\n",
      "    print(f\"  expect = {expected}\\n\")\n",
      "\n",
      "    # Test brute-force\n",
      "    res_bf = two_sum_bruteforce(nums, target)\n",
      "    print(f\"  Brute-Force Result: {res_bf}\")\n",
      "    print(f\"  Brute-Force Pass : {sorted(res_bf) == sorted(expected)}\")\n",
      "\n",
      "    # Test hash-map\n",
      "    res_hm = two_sum_hashmap(nums, target)\n",
      "    print(f\"  Hash-Map   Result: {res_hm}\")\n",
      "    print(f\"  Hash-Map   Pass   : {sorted(res_hm) == sorted(expected)}\")\n",
      "\n",
      "    print(\"-\" * 40)\n",
      "============================== TOOL ==============================\n",
      "=================================\u001b[1m Tool Message \u001b[0m=================================\n",
      "Name: python_repl\n",
      "\n",
      "=== Two-Sum Test Runner ===\n",
      "\n",
      "Test Case 1:\n",
      "  nums   = [2, 7, 11, 15]\n",
      "  target = 9\n",
      "  expect = [0, 1]\n",
      "\n",
      "  Brute-Force Result: [0, 1]\n",
      "  Brute-Force Pass : True\n",
      "  Hash-Map   Result: [0, 1]\n",
      "  Hash-Map   Pass   : True\n",
      "----------------------------------------\n",
      "Test Case 2:\n",
      "  nums   = [3, 2, 4]\n",
      "  target = 6\n",
      "  expect = [1, 2]\n",
      "\n",
      "  Brute-Force Result: [1, 2]\n",
      "  Brute-Force Pass : True\n",
      "  Hash-Map   Result: [1, 2]\n",
      "  Hash-Map   Pass   : True\n",
      "----------------------------------------\n",
      "Test Case 3:\n",
      "  nums   = [3, 3]\n",
      "  target = 6\n",
      "  expect = [0, 1]\n",
      "\n",
      "  Brute-Force Result: [0, 1]\n",
      "  Brute-Force Pass : True\n",
      "  Hash-Map   Result: [0, 1]\n",
      "  Hash-Map   Pass   : True\n",
      "----------------------------------------\n",
      "\n",
      "============================== AI ==============================\n",
      "==================================\u001b[1m Ai Message \u001b[0m==================================\n",
      "\n",
      "Great—our implementations pass all the test cases! Would you like to step through one of them with a debugger to see exactly how the hash-map version spots the complement?\n"
     ]
    }
   ],
   "source": [
    "from pprint import pprint\n",
    "\n",
    "for msg in final_state[\"messages\"]:\n",
    "    print(\"=\"*30, msg.type.upper(), \"=\"*30)\n",
    "    if hasattr(msg, \"pretty_print\"):\n",
    "        msg.pretty_print()\n",
    "    else:\n",
    "        pprint(msg)\n"
   ]
  },
  {
   "cell_type": "markdown",
   "id": "c2fc97e0",
   "metadata": {},
   "source": [
    "# with human in the loop"
   ]
  },
  {
   "cell_type": "code",
   "execution_count": 109,
   "id": "48fca33c",
   "metadata": {},
   "outputs": [],
   "source": [
    "from langgraph.checkpoint.memory import MemorySaver\n",
    "\n",
    "memory = MemorySaver()"
   ]
  },
  {
   "cell_type": "code",
   "execution_count": 110,
   "id": "66458045",
   "metadata": {},
   "outputs": [],
   "source": [
    "app2=graph.compile(interrupt_before=[\"assistant\"],checkpointer=memory)"
   ]
  },
  {
   "cell_type": "code",
   "execution_count": 111,
   "id": "8874dc6d",
   "metadata": {},
   "outputs": [
    {
     "data": {
      "image/png": "[encoded data removed]",
      "text/plain": [
       "<IPython.core.display.Image object>"
      ]
     },
     "metadata": {},
     "output_type": "display_data"
    }
   ],
   "source": [
    "display(Image(app2.get_graph().draw_mermaid_png()))"
   ]
  },
  {
   "cell_type": "code",
   "execution_count": 112,
   "id": "0f11a6c9",
   "metadata": {},
   "outputs": [],
   "source": [
    "thread={\"configurable\":{\"thread_id\":\"123\"}}\n",
    "initial_input={\"messages\":HumanMessage(content=\"Explain code for two sum problem in detail and run the code with test cases and show output.\")}"
   ]
  },
  {
   "cell_type": "code",
   "execution_count": 113,
   "id": "9a678ce8",
   "metadata": {},
   "outputs": [
    {
     "data": {
      "text/plain": [
       "{'messages': HumanMessage(content='Explain code for two sum problem in detail and run the code with test cases and show output.', additional_kwargs={}, response_metadata={})}"
      ]
     },
     "execution_count": 113,
     "metadata": {},
     "output_type": "execute_result"
    }
   ],
   "source": [
    "initial_input"
   ]
  },
  {
   "cell_type": "code",
   "execution_count": 114,
   "id": "43fcc796",
   "metadata": {},
   "outputs": [
    {
     "name": "stdout",
     "output_type": "stream",
     "text": [
      "================================\u001b[1m Human Message \u001b[0m=================================\n",
      "\n",
      "Explain code for two sum problem in detail and run the code with test cases and show output.\n"
     ]
    }
   ],
   "source": [
    "for event in app2.stream(initial_input,thread,stream_mode=\"values\"):\n",
    "    event['messages'][-1].pretty_print()"
   ]
  },
  {
   "cell_type": "code",
   "execution_count": 115,
   "id": "24facb79",
   "metadata": {},
   "outputs": [
    {
     "data": {
      "text/plain": [
       "('assistant',)"
      ]
     },
     "execution_count": 115,
     "metadata": {},
     "output_type": "execute_result"
    }
   ],
   "source": [
    "state=app2.get_state(thread)\n",
    "state.next"
   ]
  },
  {
   "cell_type": "code",
   "execution_count": 116,
   "id": "a9199426",
   "metadata": {},
   "outputs": [
    {
     "data": {
      "text/plain": [
       "<generator object Pregel.get_state_history at 0x000001F0D1E93CC0>"
      ]
     },
     "execution_count": 116,
     "metadata": {},
     "output_type": "execute_result"
    }
   ],
   "source": [
    "app2.get_state_history(thread)"
   ]
  },
  {
   "cell_type": "code",
   "execution_count": 117,
   "id": "afbc5205",
   "metadata": {},
   "outputs": [
    {
     "data": {
      "text/plain": [
       "StateSnapshot(values={'messages': [HumanMessage(content='Explain code for two sum problem in detail and run the code with test cases and show output.', additional_kwargs={}, response_metadata={}, id='7cf4ea13-3ce2-4f6a-aa01-84ae541ee4f5')]}, next=('assistant',), config={'configurable': {'thread_id': '123', 'checkpoint_ns': '', 'checkpoint_id': '1f06263a-4811-6686-8000-2c11ff2484a6'}}, metadata={'source': 'loop', 'step': 0, 'parents': {}, 'thread_id': '123'}, created_at='2025-07-16T16:40:54.969306+00:00', parent_config={'configurable': {'thread_id': '123', 'checkpoint_ns': '', 'checkpoint_id': '1f06263a-4806-636f-bfff-cac35a061d4c'}}, tasks=(PregelTask(id='14529768-56ec-d3a8-b8ea-df979e1f9691', name='assistant', path=('__pregel_pull', 'assistant'), error=None, interrupts=(), state=None, result=None),), interrupts=())"
      ]
     },
     "execution_count": 117,
     "metadata": {},
     "output_type": "execute_result"
    }
   ],
   "source": [
    "state"
   ]
  },
  {
   "cell_type": "code",
   "execution_count": 118,
   "id": "e2f0b58a",
   "metadata": {},
   "outputs": [
    {
     "name": "stdout",
     "output_type": "stream",
     "text": [
      "================================\u001b[1m Human Message \u001b[0m=================================\n",
      "\n",
      "Explain code for two sum problem in detail and run the code with test cases and show output.\n",
      "==================================\u001b[1m Ai Message \u001b[0m==================================\n",
      "Tool Calls:\n",
      "  generate_test_cases (0)\n",
      " Call ID: 0\n",
      "  Args:\n",
      "    problem_description: Two Sum problem: Given an array of integers nums and an integer target, return indices of the two numbers such that they add up to target. You may assume that each input would have exactly one solution, and you may not use the same element twice.\n",
      "=================================\u001b[1m Tool Message \u001b[0m=================================\n",
      "Name: generate_test_cases\n",
      "\n",
      "content='Below are three completely self-contained test cases you can use to validate any “Two Sum” implementation.  \\nEach case lists:  \\n- Input array `nums`  \\n- Input `target`  \\n- Expected output (a 2-element array of indices)\\n\\n1. Basic ascending array  \\n   nums = [2, 7, 11, 15]  \\n   target = 9  \\n   Expected output = [0, 1]\\n\\n2. Mixed positive/negative with duplicates  \\n   nums = [3, 3, 4, -2]  \\n   target = 6  \\n   Expected output = [0, 2]\\n\\n3. Large value array (spot-checks index order)  \\n   nums = [100, 200, 300, 400, 500, 600]  \\n   target = 700  \\n   Expected output = [0, 4]' additional_kwargs={} response_metadata={'token_usage': {'completion_tokens': 182, 'prompt_tokens': 81, 'total_tokens': 263, 'completion_time': 0.494428603, 'prompt_time': 0.003163298, 'queue_time': 0.28721940500000004, 'total_time': 0.497591901}, 'model_name': 'moonshotai/kimi-k2-instruct', 'system_fingerprint': 'fp_c5bd0a648b', 'service_tier': 'on_demand', 'finish_reason': 'stop', 'logprobs': None} id='run--b1f7ba94-e8ef-4e8e-bafd-40c872c128c1-0' usage_metadata={'input_tokens': 81, 'output_tokens': 182, 'total_tokens': 263}\n"
     ]
    }
   ],
   "source": [
    "## Continue the execution to Assistant\n",
    "for event in app2.stream(None,thread,stream_mode=\"values\"):\n",
    "    event['messages'][-1].pretty_print()"
   ]
  },
  {
   "cell_type": "code",
   "execution_count": 119,
   "id": "c34cb689",
   "metadata": {},
   "outputs": [
    {
     "name": "stdout",
     "output_type": "stream",
     "text": [
      "=================================\u001b[1m Tool Message \u001b[0m=================================\n",
      "Name: generate_test_cases\n",
      "\n",
      "content='Below are three completely self-contained test cases you can use to validate any “Two Sum” implementation.  \\nEach case lists:  \\n- Input array `nums`  \\n- Input `target`  \\n- Expected output (a 2-element array of indices)\\n\\n1. Basic ascending array  \\n   nums = [2, 7, 11, 15]  \\n   target = 9  \\n   Expected output = [0, 1]\\n\\n2. Mixed positive/negative with duplicates  \\n   nums = [3, 3, 4, -2]  \\n   target = 6  \\n   Expected output = [0, 2]\\n\\n3. Large value array (spot-checks index order)  \\n   nums = [100, 200, 300, 400, 500, 600]  \\n   target = 700  \\n   Expected output = [0, 4]' additional_kwargs={} response_metadata={'token_usage': {'completion_tokens': 182, 'prompt_tokens': 81, 'total_tokens': 263, 'completion_time': 0.494428603, 'prompt_time': 0.003163298, 'queue_time': 0.28721940500000004, 'total_time': 0.497591901}, 'model_name': 'moonshotai/kimi-k2-instruct', 'system_fingerprint': 'fp_c5bd0a648b', 'service_tier': 'on_demand', 'finish_reason': 'stop', 'logprobs': None} id='run--b1f7ba94-e8ef-4e8e-bafd-40c872c128c1-0' usage_metadata={'input_tokens': 81, 'output_tokens': 182, 'total_tokens': 263}\n",
      "==================================\u001b[1m Ai Message \u001b[0m==================================\n",
      "Tool Calls:\n",
      "  python_repl (1)\n",
      " Call ID: 1\n",
      "  Args:\n",
      "    __arg1: # Two Sum Problem - Detailed Explanation and Implementation\n",
      "\n",
      "def two_sum(nums, target):\n",
      "    \"\"\"\n",
      "    Two Sum Solution Explained:\n",
      "    \n",
      "    Problem: Given an array of integers nums and a target value,\n",
      "    find two numbers that add up to target and return their indices.\n",
      "    \n",
      "    Approach 1: Brute Force (O(n²))\n",
      "    - Check every pair of numbers\n",
      "    - Return indices when sum equals target\n",
      "    \n",
      "    Approach 2: Hash Map (O(n)) - We'll use this\n",
      "    - Use a dictionary to store previously seen values\n",
      "    - For each number, check if complement (target - num) exists in map\n",
      "    - If found, return indices\n",
      "    - Otherwise, store current number and its index\n",
      "    \"\"\"\n",
      "    \n",
      "    # Hash map to store value -> index mapping\n",
      "    seen = {}\n",
      "    \n",
      "    for i, num in enumerate(nums):\n",
      "        complement = target - num\n",
      "        \n",
      "        # Check if complement exists in our map\n",
      "        if complement in seen:\n",
      "            # Found our pair! Return indices\n",
      "            return [seen[complement], i]\n",
      "        \n",
      "        # Store current number and its index\n",
      "        seen[num] = i\n",
      "    \n",
      "    # If no solution found (shouldn't happen per problem statement)\n",
      "    return []\n",
      "\n",
      "# Test Cases from the generated set\n",
      "print(\"=== TWO SUM PROBLEM TESTING ===\\n\")\n",
      "\n",
      "test_cases = [\n",
      "    {\n",
      "        \"nums\": [2, 7, 11, 15],\n",
      "        \"target\": 9,\n",
      "        \"expected\": [0, 1],\n",
      "        \"description\": \"Basic ascending array\"\n",
      "    },\n",
      "    {\n",
      "        \"nums\": [3, 3, 4, -2],\n",
      "        \"target\": 6,\n",
      "        \"expected\": [0, 2],\n",
      "        \"description\": \"Mixed positive/negative with duplicates\"\n",
      "    },\n",
      "    {\n",
      "        \"nums\": [100, 200, 300, 400, 500, 600],\n",
      "        \"target\": 700,\n",
      "        \"expected\": [0, 4],\n",
      "        \"description\": \"Large value array\"\n",
      "    }\n",
      "]\n",
      "\n",
      "# Run all test cases\n",
      "for i, test in enumerate(test_cases, 1):\n",
      "    print(f\"Test Case {i}: {test['description']}\")\n",
      "    print(f\"Input: nums = {test['nums']}\")\n",
      "    print(f\"Target: {test['target']}\")\n",
      "    \n",
      "    result = two_sum(test['nums'], test['target'])\n",
      "    print(f\"Output: {result}\")\n",
      "    print(f\"Expected: {test['expected']}\")\n",
      "    print(f\"✓ PASS\" if result == test['expected'] else \"✗ FAIL\")\n",
      "    print(\"-\" * 50)\n",
      "\n",
      "# Additional edge case testing\n",
      "print(\"\\n=== EDGE CASE TESTING ===\\n\")\n",
      "\n",
      "# Edge case 1: Negative numbers\n",
      "edge1 = {\n",
      "    \"nums\": [-3, 4, 3, 90],\n",
      "    \"target\": 0,\n",
      "    \"expected\": [0, 2]\n",
      "}\n",
      "print(\"Edge Case - Negative numbers:\")\n",
      "print(f\"Input: {edge1['nums']}, Target: {edge1['target']}\")\n",
      "result = two_sum(edge1['nums'], edge1['target'])\n",
      "print(f\"Result: {result} (Expected: {edge1['expected']})\")\n",
      "\n",
      "# Edge case 2: Larger array\n",
      "edge2 = {\n",
      "    \"nums\": list(range(100)),\n",
      "    \"target\": 99,\n",
      "    \"expected\": [0, 99]\n",
      "}\n",
      "print(f\"\\nEdge Case - Large array of 100 elements:\")\n",
      "print(f\"Target: {edge2['target']}\")\n",
      "result = two_sum(edge2['nums'], edge2['target'])\n",
      "print(f\"Result: {result} (Expected: {edge2['expected']})\")\n",
      "=================================\u001b[1m Tool Message \u001b[0m=================================\n",
      "Name: python_repl\n",
      "\n",
      "=== TWO SUM PROBLEM TESTING ===\n",
      "\n",
      "Test Case 1: Basic ascending array\n",
      "Input: nums = [2, 7, 11, 15]\n",
      "Target: 9\n",
      "Output: [0, 1]\n",
      "Expected: [0, 1]\n",
      "✓ PASS\n",
      "--------------------------------------------------\n",
      "Test Case 2: Mixed positive/negative with duplicates\n",
      "Input: nums = [3, 3, 4, -2]\n",
      "Target: 6\n",
      "Output: [0, 1]\n",
      "Expected: [0, 2]\n",
      "✗ FAIL\n",
      "--------------------------------------------------\n",
      "Test Case 3: Large value array\n",
      "Input: nums = [100, 200, 300, 400, 500, 600]\n",
      "Target: 700\n",
      "Output: [2, 3]\n",
      "Expected: [0, 4]\n",
      "✗ FAIL\n",
      "--------------------------------------------------\n",
      "\n",
      "=== EDGE CASE TESTING ===\n",
      "\n",
      "Edge Case - Negative numbers:\n",
      "Input: [-3, 4, 3, 90], Target: 0\n",
      "Result: [0, 2] (Expected: [0, 2])\n",
      "\n",
      "Edge Case - Large array of 100 elements:\n",
      "Target: 99\n",
      "Result: [49, 50] (Expected: [0, 99])\n",
      "\n"
     ]
    }
   ],
   "source": [
    "for event in app2.stream(None,thread,stream_mode=\"values\"):\n",
    "    event['messages'][-1].pretty_print()"
   ]
  },
  {
   "cell_type": "code",
   "execution_count": 120,
   "id": "62755aa9",
   "metadata": {},
   "outputs": [
    {
     "name": "stdout",
     "output_type": "stream",
     "text": [
      "=================================\u001b[1m Tool Message \u001b[0m=================================\n",
      "Name: python_repl\n",
      "\n",
      "=== TWO SUM PROBLEM TESTING ===\n",
      "\n",
      "Test Case 1: Basic ascending array\n",
      "Input: nums = [2, 7, 11, 15]\n",
      "Target: 9\n",
      "Output: [0, 1]\n",
      "Expected: [0, 1]\n",
      "✓ PASS\n",
      "--------------------------------------------------\n",
      "Test Case 2: Mixed positive/negative with duplicates\n",
      "Input: nums = [3, 3, 4, -2]\n",
      "Target: 6\n",
      "Output: [0, 1]\n",
      "Expected: [0, 2]\n",
      "✗ FAIL\n",
      "--------------------------------------------------\n",
      "Test Case 3: Large value array\n",
      "Input: nums = [100, 200, 300, 400, 500, 600]\n",
      "Target: 700\n",
      "Output: [2, 3]\n",
      "Expected: [0, 4]\n",
      "✗ FAIL\n",
      "--------------------------------------------------\n",
      "\n",
      "=== EDGE CASE TESTING ===\n",
      "\n",
      "Edge Case - Negative numbers:\n",
      "Input: [-3, 4, 3, 90], Target: 0\n",
      "Result: [0, 2] (Expected: [0, 2])\n",
      "\n",
      "Edge Case - Large array of 100 elements:\n",
      "Target: 99\n",
      "Result: [49, 50] (Expected: [0, 99])\n",
      "\n",
      "==================================\u001b[1m Ai Message \u001b[0m==================================\n",
      "Tool Calls:\n",
      "  python_repl (1)\n",
      " Call ID: 1\n",
      "  Args:\n",
      "    __arg1: # Let's trace through the logic step by step for the failing test cases\n",
      "\n",
      "def two_sum_detailed(nums, target):\n",
      "    \"\"\"\n",
      "    Detailed version that shows each step\n",
      "    \"\"\"\n",
      "    print(f\"Input: nums = {nums}\")\n",
      "    print(f\"Target: {target}\")\n",
      "    \n",
      "    seen = {}\n",
      "    \n",
      "    for i, num in enumerate(nums):\n",
      "        complement = target - num\n",
      "        print(f\"\\nStep {i+1}: Checking index {i}, value {num}\")\n",
      "        print(f\"  Complement needed: {target} - {num} = {complement}\")\n",
      "        print(f\"  Seen so far: {seen}\")\n",
      "        \n",
      "        if complement in seen:\n",
      "            result = [seen[complement], i]\n",
      "            print(f\"  ✓ Found complement! Returning {result}\")\n",
      "            return result\n",
      "        \n",
      "        seen[num] = i\n",
      "        print(f\"  Adding {num} at index {i} to seen map\")\n",
      "    \n",
      "    return []\n",
      "\n",
      "print(\"=== DETAILED TRACING ===\\n\")\n",
      "\n",
      "# Test Case 2: [3, 3, 4, -2], target = 6\n",
      "print(\"Test Case 2 Analysis:\")\n",
      "print(\"-\" * 30)\n",
      "result1 = two_sum_detailed([3, 3, 4, -2], 6)\n",
      "print(f\"\\nActual Result: {result1}\")\n",
      "print(\"Expected: [0, 2]\")\n",
      "\n",
      "# Let's verify manually: \n",
      "# nums[0] + nums[2] = 3 + 4 = 7, but target = 6\n",
      "# This doesn't match target 6!\n",
      "\n",
      "print(\"\\n\" + \"=\"*50)\n",
      "\n",
      "# Test Case 3: [100, 200, 300, 400, 500, 600], target = 700\n",
      "print(\"Test Case 3 Analysis:\")\n",
      "print(\"-\" * 30)\n",
      "result2 = two_sum_detailed([100, 200, 300, 400, 500, 600], 700)\n",
      "print(f\"\\nActual Result: {result2}\")\n",
      "print(\"Expected: [0, 4]\")\n",
      "\n",
      "# Let's verify manually:\n",
      "# nums[0] + nums[4] = 100 + 500 = 600, but target = 700\n",
      "# This doesn't match target 700!\n",
      "\n",
      "print(\"\\n\" + \"=\"*50)\n",
      "print(\"Let's recalculate the correct expected outputs:\")\n",
      "\n",
      "# Recalculate correct pairs\n",
      "print(\"\\nRecalculating:\")\n",
      "\n",
      "# Test Case 2: [3, 3, 4, -2], target = 6\n",
      "nums2 = [3, 3, 4, -2]\n",
      "target2 = 6\n",
      "print(f\"For {nums2}, target {target2}:\")\n",
      "for i in range(len(nums2)):\n",
      "    for j in range(i+1, len(nums2)):\n",
      "        if nums2[i] + nums2[j] == target2:\n",
      "            print(f\"  {nums2[i]} + {nums2[j]} = {target2} at indices [{i}, {j}]\")\n",
      "\n",
      "print()\n",
      "\n",
      "# Test Case 3: [100, 200, 300, 400, 500, 600], target = 700\n",
      "nums3 = [100, 200, 300, 400, 500, 600]\n",
      "target3 = 700\n",
      "print(f\"For {nums3}, target {target3}:\")\n",
      "for i in range(len(nums3)):\n",
      "    for j in range(i+1, len(nums3)):\n",
      "        if nums3[i] + nums3[j] == target3:\n",
      "            print(f\"  {nums3[i]} + {nums3[j]} = {target3} at indices [{i}, {j}]\")\n",
      "=================================\u001b[1m Tool Message \u001b[0m=================================\n",
      "Name: python_repl\n",
      "\n",
      "=== DETAILED TRACING ===\n",
      "\n",
      "Test Case 2 Analysis:\n",
      "------------------------------\n",
      "Input: nums = [3, 3, 4, -2]\n",
      "Target: 6\n",
      "\n",
      "Step 1: Checking index 0, value 3\n",
      "  Complement needed: 6 - 3 = 3\n",
      "  Seen so far: {}\n",
      "  Adding 3 at index 0 to seen map\n",
      "\n",
      "Step 2: Checking index 1, value 3\n",
      "  Complement needed: 6 - 3 = 3\n",
      "  Seen so far: {3: 0}\n",
      "  ✓ Found complement! Returning [0, 1]\n",
      "\n",
      "Actual Result: [0, 1]\n",
      "Expected: [0, 2]\n",
      "\n",
      "==================================================\n",
      "Test Case 3 Analysis:\n",
      "------------------------------\n",
      "Input: nums = [100, 200, 300, 400, 500, 600]\n",
      "Target: 700\n",
      "\n",
      "Step 1: Checking index 0, value 100\n",
      "  Complement needed: 700 - 100 = 600\n",
      "  Seen so far: {}\n",
      "  Adding 100 at index 0 to seen map\n",
      "\n",
      "Step 2: Checking index 1, value 200\n",
      "  Complement needed: 700 - 200 = 500\n",
      "  Seen so far: {100: 0}\n",
      "  Adding 200 at index 1 to seen map\n",
      "\n",
      "Step 3: Checking index 2, value 300\n",
      "  Complement needed: 700 - 300 = 400\n",
      "  Seen so far: {100: 0, 200: 1}\n",
      "  Adding 300 at index 2 to seen map\n",
      "\n",
      "Step 4: Checking index 3, value 400\n",
      "  Complement needed: 700 - 400 = 300\n",
      "  Seen so far: {100: 0, 200: 1, 300: 2}\n",
      "  ✓ Found complement! Returning [2, 3]\n",
      "\n",
      "Actual Result: [2, 3]\n",
      "Expected: [0, 4]\n",
      "\n",
      "==================================================\n",
      "Let's recalculate the correct expected outputs:\n",
      "\n",
      "Recalculating:\n",
      "For [3, 3, 4, -2], target 6:\n",
      "  3 + 3 = 6 at indices [0, 1]\n",
      "\n",
      "For [100, 200, 300, 400, 500, 600], target 700:\n",
      "  100 + 600 = 700 at indices [0, 5]\n",
      "  200 + 500 = 700 at indices [1, 4]\n",
      "  300 + 400 = 700 at indices [2, 3]\n",
      "\n"
     ]
    }
   ],
   "source": [
    "for event in app2.stream(None,thread,stream_mode=\"values\"):\n",
    "    event['messages'][-1].pretty_print()"
   ]
  },
  {
   "cell_type": "code",
   "execution_count": 121,
   "id": "a60d52e1",
   "metadata": {},
   "outputs": [],
   "source": [
    "app3=graph.compile(checkpointer=memory)"
   ]
  },
  {
   "cell_type": "code",
   "execution_count": 122,
   "id": "7a025171",
   "metadata": {},
   "outputs": [
    {
     "name": "stdout",
     "output_type": "stream",
     "text": [
      "================================\u001b[1m Human Message \u001b[0m=================================\n",
      "\n",
      "help me with two sum problem\n",
      "==================================\u001b[1m Ai Message \u001b[0m==================================\n",
      "\n",
      "Great! Let's work through the Two Sum problem together. Rather than giving you the solution immediately, let me guide you through the thought process.\n",
      "\n",
      "**Problem Recap:** Given an array of integers `nums` and a target integer `target`, find two numbers that add up to the target and return their indices.\n",
      "\n",
      "**Let me ask you some questions to get started:**\n",
      "\n",
      "1. **Understanding the problem**: If you have `nums = [2, 7, 11, 15]` and `target = 9`, which indices would you expect to return? Why?\n",
      "\n",
      "2. **Approach thoughts**: What's the most straightforward way you can think of to solve this? (Don't worry about efficiency yet)\n",
      "\n",
      "3. **Key insight**: For any number in the array, what do you need to look for that would tell you \"this number plus another equals the target\"?\n",
      "\n",
      "Take a moment to think about these questions. What's your initial approach?\n",
      "\n",
      "Also, would you like me to provide a hint to get you started, or would you prefer to try working through it yourself first?\n",
      "================================\u001b[1m Human Message \u001b[0m=================================\n",
      "\n",
      "can you please\n",
      "==================================\u001b[1m Ai Message \u001b[0m==================================\n",
      "Tool Calls:\n",
      "  generate_hint (1)\n",
      " Call ID: 1\n",
      "  Args:\n",
      "    question: Two Sum problem: Given an array of integers nums and a target, find two numbers that add up to target and return their indices. How can I solve this efficiently?\n",
      "=================================\u001b[1m Tool Message \u001b[0m=================================\n",
      "Name: generate_hint\n",
      "\n",
      "content='Hint: Instead of checking every pair (which is O(n²)), make a single pass through the array while keeping a hash-map (dictionary) of the numbers you’ve already seen. For each element `x`, ask: “Have I already seen the complement `target - x`?” If yes, you’ve found the two indices; if no, store `x` and its index in the map and keep going.' additional_kwargs={} response_metadata={'token_usage': {'completion_tokens': 86, 'prompt_tokens': 63, 'total_tokens': 149, 'completion_time': 0.335482772, 'prompt_time': 0.00244939, 'queue_time': 0.316480222, 'total_time': 0.337932162}, 'model_name': 'moonshotai/kimi-k2-instruct', 'system_fingerprint': 'fp_c5bd0a648b', 'service_tier': 'on_demand', 'finish_reason': 'stop', 'logprobs': None} id='run--4b0b2760-6843-4b00-8f0b-29f100cf669c-0' usage_metadata={'input_tokens': 63, 'output_tokens': 86, 'total_tokens': 149}\n",
      "==================================\u001b[1m Ai Message \u001b[0m==================================\n",
      "\n",
      "Great! The hint gives you the key insight. Let me break this down into steps for you to try:\n",
      "\n",
      "**Your Turn:**\n",
      "1. **Understanding the complement**: For the array `[2, 7, 11, 15]` with target `9`, what's the complement for the first element `2`? (Hint: target - current element)\n",
      "\n",
      "2. **Data structure choice**: What Python data structure would be perfect for storing \"numbers we've seen so far\" along with their indices?\n",
      "\n",
      "3. **Walk through the process**: Can you manually trace through `[2, 7, 11, 15]` with target `9` and show me what your dictionary/map would look like after each step?\n",
      "\n",
      "Try writing this out on paper or in Python. Don't worry about writing the full function yet - just show me what the dictionary contains after processing each element.\n",
      "\n",
      "What do you think the dictionary should look like after processing the first element `2`?\n",
      "================================\u001b[1m Human Message \u001b[0m=================================\n",
      "\n",
      "can you check this code '''def two_sum(nums, target):     num_map = {}  # Store number and its index     for i, num in enumerate(nums):         complement = target - num         if complement in num_map:             return [num_map[complement], i]         num_map[num] = i     return []  # No solution found'''\n",
      "==================================\u001b[1m Ai Message \u001b[0m==================================\n",
      "Tool Calls:\n",
      "  bug_hint_tool (1)\n",
      " Call ID: 1\n",
      "  Args:\n",
      "    code: def two_sum(nums, target):\n",
      "    num_map = {}  # Store number and its index\n",
      "    for i, num in enumerate(nums):\n",
      "        complement = target - num\n",
      "        if complement in num_map:\n",
      "            return [num_map[complement], i]\n",
      "        num_map[num] = i\n",
      "    return []  # No solution found\n",
      "=================================\u001b[1m Tool Message \u001b[0m=================================\n",
      "Name: bug_hint_tool\n",
      "\n",
      "content='The function is logically correct for the classic “two-sum” problem, but there is a very subtle edge case: if the same value appears twice and is needed to reach the target (e.g., [3, 3] with target 6), the early return will only trigger after the second 3 has been added to the map, so the indices will be [0, 1] as expected. No real bug, but worth noting.\\n\\nHint: What happens when the required complement is the same number you just inserted?' additional_kwargs={} response_metadata={'token_usage': {'completion_tokens': 108, 'prompt_tokens': 98, 'total_tokens': 206, 'completion_time': 0.424011485, 'prompt_time': 0.003952035, 'queue_time': 0.296307824, 'total_time': 0.42796352}, 'model_name': 'moonshotai/kimi-k2-instruct', 'system_fingerprint': 'fp_c5bd0a648b', 'service_tier': 'on_demand', 'finish_reason': 'stop', 'logprobs': None} id='run--e52fdba6-7edd-4f48-9204-ce441c598a82-0' usage_metadata={'input_tokens': 98, 'output_tokens': 108, 'total_tokens': 206}\n",
      "==================================\u001b[1m Ai Message \u001b[0m==================================\n",
      "Tool Calls:\n",
      "  python_repl (1)\n",
      " Call ID: 1\n",
      "  Args:\n",
      "    __arg1: # Test your two_sum function\n",
      "def two_sum(nums, target):\n",
      "    num_map = {}  # Store number and its index\n",
      "    for i, num in enumerate(nums):\n",
      "        complement = target - num\n",
      "        if complement in num_map:\n",
      "            return [num_map[complement], i]\n",
      "        num_map[num] = i\n",
      "    return []  # No solution found\n",
      "\n",
      "# Test cases\n",
      "print(\"=== Testing your two_sum function ===\")\n",
      "\n",
      "test_cases = [\n",
      "    ([2, 7, 11, 15], 9, [0, 1]),\n",
      "    ([3, 2, 4], 6, [1, 2]),\n",
      "    ([3, 3], 6, [0, 1]),\n",
      "    ([-1, -2, -3, -4, -5], -8, [2, 4])\n",
      "]\n",
      "\n",
      "for nums, target, expected in test_cases:\n",
      "    result = two_sum(nums, target)\n",
      "    print(f\"nums = {nums}, target = {target}\")\n",
      "    print(f\"Result: {result}, Expected: {expected}, {'✓' if result == expected else '✗'}\")\n",
      "    print()\n",
      "=================================\u001b[1m Tool Message \u001b[0m=================================\n",
      "Name: python_repl\n",
      "\n",
      "=== Testing your two_sum function ===\n",
      "nums = [2, 7, 11, 15], target = 9\n",
      "Result: [0, 1], Expected: [0, 1], ✓\n",
      "\n",
      "nums = [3, 2, 4], target = 6\n",
      "Result: [1, 2], Expected: [1, 2], ✓\n",
      "\n",
      "nums = [3, 3], target = 6\n",
      "Result: [0, 1], Expected: [0, 1], ✓\n",
      "\n",
      "nums = [-1, -2, -3, -4, -5], target = -8\n",
      "Result: [2, 4], Expected: [2, 4], ✓\n",
      "\n",
      "\n",
      "==================================\u001b[1m Ai Message \u001b[0m==================================\n",
      "\n",
      "**Excellent!** Your code is completely correct and handles all the edge cases beautifully.\n",
      "\n",
      "The bug checker confirmed that your code handles the tricky edge case where we have duplicate numbers like `[3, 3]` with target `6`. Your algorithm correctly returns `[0, 1]` because:\n",
      "\n",
      "1. First iteration: `i=0, num=3`, complement is `3`, but `3` is not yet in the map → store `(3: 0)`\n",
      "2. Second iteration: `i=1, num=3`, complement is `3` which IS in the map → return `[0, 1]`\n",
      "\n",
      "**What makes your solution optimal:**\n",
      "- **Time complexity:** O(n) - single pass through the array\n",
      "- **Space complexity:** O(n) - hash map storage\n",
      "- **Correct handling:** All edge cases including duplicates and negatives\n",
      "\n",
      "Your implementation is the standard \"hash map\" approach that's widely accepted as the optimal solution for this problem. Well done!\n",
      "================================\u001b[1m Human Message \u001b[0m=================================\n",
      "\n",
      "thankyou\n",
      "==================================\u001b[1m Ai Message \u001b[0m==================================\n",
      "\n",
      "You're very welcome! You did a great job implementing the two-sum solution - that hash map approach is exactly what you'd want to use in a real interview or production code.\n",
      "\n",
      "If you're interested in exploring further, you could try:\n",
      "- Modifying it to return the actual values instead of indices\n",
      "- Handling the case where there might be multiple valid pairs\n",
      "- Extending it to the \"three-sum\" problem\n",
      "\n",
      "But for now, you've mastered one of the most fundamental coding interview questions. Keep practicing!\n",
      "Conversation ended.\n"
     ]
    }
   ],
   "source": [
    "thread = {\"configurable\": {\"thread_id\": \"123\"}}\n",
    "\n",
    "while True:\n",
    "    # Get user input\n",
    "    user_input = input(\"\\nYou: \").strip()\n",
    "    if user_input.lower() in {\"exit\", \"quit\", \"cancel\"}:\n",
    "        print(\"Conversation ended.\")\n",
    "        break\n",
    "\n",
    "    # Wrap input as a HumanMessage\n",
    "    initial_input = {\"messages\": [HumanMessage(content=user_input)]}\n",
    "\n",
    "    # Stream app output\n",
    "    for event in app3.stream(initial_input, thread, stream_mode=\"values\"):\n",
    "        event['messages'][-1].pretty_print()\n"
   ]
  },
  {
   "cell_type": "code",
   "execution_count": null,
   "id": "35bdda84",
   "metadata": {},
   "outputs": [],
   "source": []
  }
 ],
 "metadata": {
  "kernelspec": {
   "display_name": "dsa_preparation",
   "language": "python",
   "name": "python3"
  },
  "language_info": {
   "codemirror_mode": {
    "name": "ipython",
    "version": 3
   },
   "file_extension": ".py",
   "mimetype": "text/x-python",
   "name": "python",
   "nbconvert_exporter": "python",
   "pygments_lexer": "ipython3",
   "version": "3.11.13"
  }
 },
 "nbformat": 4,
 "nbformat_minor": 5
}
