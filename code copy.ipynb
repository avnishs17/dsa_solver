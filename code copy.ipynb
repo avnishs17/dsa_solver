{
 "cells": [
  {
   "cell_type": "code",
   "execution_count": 1,
   "id": "1bfca3d1",
   "metadata": {},
   "outputs": [
    {
     "data": {
      "text/plain": [
       "True"
      ]
     },
     "execution_count": 1,
     "metadata": {},
     "output_type": "execute_result"
    }
   ],
   "source": [
    "from dotenv import load_dotenv\n",
    "import os\n",
    "import getpass\n",
    "\n",
    "load_dotenv()"
   ]
  },
  {
   "cell_type": "code",
   "execution_count": 2,
   "id": "e6dafea2",
   "metadata": {},
   "outputs": [],
   "source": [
    "if \"GOOGLE_API_KEY\" not in os.environ:\n",
    "    os.environ[\"GOOGLE_API_KEY\"] = getpass.getpass(\"Enter your Google AI API key: \")"
   ]
  },
  {
   "cell_type": "code",
   "execution_count": 3,
   "id": "a5a777ad",
   "metadata": {},
   "outputs": [],
   "source": [
    "if \"LANGSMITH_API_KEY\" not in os.environ:\n",
    "    os.environ[\"LANGSMITH_API_KEY\"] = getpass.getpass(\"Enter your LangSmith API key: \")\n",
    "os.environ[\"LANGSMITH_TRACING\"] = \"true\""
   ]
  },
  {
   "cell_type": "code",
   "execution_count": 4,
   "id": "3ff02a19",
   "metadata": {},
   "outputs": [],
   "source": [
    "from langchain_google_genai import ChatGoogleGenerativeAI\n",
    "\n",
    "llm = ChatGoogleGenerativeAI(\n",
    "    model=\"gemini-2.5-flash\",\n",
    "    temperature=0.7,\n",
    "    max_retries=2,\n",
    ")"
   ]
  },
  {
   "cell_type": "code",
   "execution_count": 5,
   "id": "9557edca",
   "metadata": {},
   "outputs": [],
   "source": [
    "result=llm.invoke('What is two sum problem? Explain in 50 word or less.')"
   ]
  },
  {
   "cell_type": "code",
   "execution_count": 6,
   "id": "67642504",
   "metadata": {},
   "outputs": [
    {
     "data": {
      "text/plain": [
       "\"The Two Sum problem asks you to find two numbers in a given array that add up to a specific target sum. You typically need to return the indices of these two numbers. It's a common interview question, often solved efficiently using hash maps.\""
      ]
     },
     "execution_count": 6,
     "metadata": {},
     "output_type": "execute_result"
    }
   ],
   "source": [
    "result.content"
   ]
  },
  {
   "cell_type": "markdown",
   "id": "4656fe24",
   "metadata": {},
   "source": [
    "The Two Sum problem asks you to find two numbers in a given array of integers that sum up to a specific target number. You typically return the indices of these two numbers. It's a classic problem, often solved efficiently using a hash map."
   ]
  },
  {
   "cell_type": "code",
   "execution_count": 7,
   "id": "2797515d",
   "metadata": {},
   "outputs": [],
   "source": [
    "from langchain_core.tools import Tool\n",
    "from langchain_experimental.utilities import PythonREPL"
   ]
  },
  {
   "cell_type": "code",
   "execution_count": 8,
   "id": "19d33347",
   "metadata": {},
   "outputs": [],
   "source": [
    "python_repl = PythonREPL()"
   ]
  },
  {
   "cell_type": "code",
   "execution_count": 9,
   "id": "ac6e5982",
   "metadata": {},
   "outputs": [
    {
     "name": "stderr",
     "output_type": "stream",
     "text": [
      "Python REPL can execute arbitrary code. Use with caution.\n"
     ]
    },
    {
     "data": {
      "text/plain": [
       "'2\\n'"
      ]
     },
     "execution_count": 9,
     "metadata": {},
     "output_type": "execute_result"
    }
   ],
   "source": [
    "python_repl.run(\"print(1+1)\")"
   ]
  },
  {
   "cell_type": "code",
   "execution_count": 10,
   "id": "df727d9b",
   "metadata": {},
   "outputs": [
    {
     "data": {
      "text/plain": [
       "'NameError(\"name \\'fib\\' is not defined\")'"
      ]
     },
     "execution_count": 10,
     "metadata": {},
     "output_type": "execute_result"
    }
   ],
   "source": [
    "python_repl.run(\"\"\"\n",
    "def fib(n):\n",
    "    if n <= 1:\n",
    "        return n\n",
    "    return fib(n-1) + fib(n-2)\n",
    "\n",
    "fib(10)\n",
    "\"\"\")\n"
   ]
  },
  {
   "cell_type": "code",
   "execution_count": 11,
   "id": "bf324cbb",
   "metadata": {},
   "outputs": [],
   "source": [
    "from langchain_experimental.utilities import PythonREPL\n",
    "\n",
    "class PersistentPythonREPLTool(PythonREPL):\n",
    "    def __init__(self):\n",
    "        super().__init__()\n",
    "        self._globals = {}\n",
    "\n",
    "    def run(self, command: str) -> str:\n",
    "        try:\n",
    "            # First try eval (single expression)\n",
    "            result = eval(command, self._globals)\n",
    "            return str(result)\n",
    "        except SyntaxError:\n",
    "            # If it's a statement block, use exec\n",
    "            try:\n",
    "                exec(command, self._globals)\n",
    "                return \"Executed.\"\n",
    "            except Exception as e:\n",
    "                return repr(e)\n",
    "        except Exception as e:\n",
    "            return repr(e)\n"
   ]
  },
  {
   "cell_type": "code",
   "execution_count": 12,
   "id": "e8b711dd",
   "metadata": {},
   "outputs": [
    {
     "name": "stdout",
     "output_type": "stream",
     "text": [
      "Executed.\n",
      "55\n"
     ]
    }
   ],
   "source": [
    "python_repl = PersistentPythonREPLTool()\n",
    "\n",
    "# Define and use the function in one call\n",
    "print(python_repl.run(\"\"\"\n",
    "def fib(n):\n",
    "    if n <= 1:\n",
    "        return n\n",
    "    return fib(n-1) + fib(n-2)\n",
    "\"\"\"))\n",
    "\n",
    "# Call the function later\n",
    "print(python_repl.run(\"fib(10)\"))\n"
   ]
  },
  {
   "cell_type": "code",
   "execution_count": 13,
   "id": "c5904bd2",
   "metadata": {},
   "outputs": [],
   "source": [
    "# You can create the tool to pass to an agent\n",
    "repl_tool = Tool(\n",
    "    name=\"python_repl\",\n",
    "    description=\"A Python shell. Use this to execute python commands. Input should be\" \\\n",
    "                \" a valid python command. If you want to see the output of a value, you \" \\\n",
    "                \"should print it out with `print(...)`.\",\n",
    "    func=python_repl.run,\n",
    ")"
   ]
  },
  {
   "cell_type": "code",
   "execution_count": 14,
   "id": "d239ad1e",
   "metadata": {},
   "outputs": [],
   "source": [
    "llm_with_tools=llm.bind_tools([repl_tool])"
   ]
  },
  {
   "cell_type": "code",
   "execution_count": 15,
   "id": "d8a027b7",
   "metadata": {},
   "outputs": [],
   "source": [
    "result=llm_with_tools.invoke(\"What is two sum problem? Explain in 50 word or less. and run the code with the tool to show me some test cases\")"
   ]
  },
  {
   "cell_type": "code",
   "execution_count": 16,
   "id": "e418710e",
   "metadata": {},
   "outputs": [
    {
     "data": {
      "text/plain": [
       "AIMessage(content=\"The Two Sum problem asks you to find two numbers in an array that add up to a specific target. You need to return the indices of these two numbers. Each input typically has one solution, and you can't use the same element twice.\\n\\nHere are some test cases:\", additional_kwargs={'function_call': {'name': 'python_repl', 'arguments': '{\"__arg1\": \"\\\\ndef two_sum(nums, target):\\\\n    num_map = {}\\\\n    for i, num in enumerate(nums):\\\\n        complement = target - num\\\\n        if complement in num_map:\\\\n            return [num_map[complement], i]\\\\n        num_map[num] = i\\\\n    return []\\\\n\\\\nprint(f\\\\\"Test Case 1: nums=[2, 7, 11, 15], target=9 -> {two_sum([2, 7, 11, 15], 9)}\\\\\")\\\\nprint(f\\\\\"Test Case 2: nums=[3, 2, 4], target=6 -> {two_sum([3, 2, 4], 6)}\\\\\")\\\\nprint(f\\\\\"Test Case 3: nums=[3, 3], target=6 -> {two_sum([3, 3], 6)}\\\\\")\\\\n\"}'}}, response_metadata={'prompt_feedback': {'block_reason': 0, 'safety_ratings': []}, 'finish_reason': 'STOP', 'model_name': 'gemini-2.5-flash', 'safety_ratings': []}, id='run--8019ba3a-e05a-4d94-bc1f-80d9dfdb3cf9-0', tool_calls=[{'name': 'python_repl', 'args': {'__arg1': '\\ndef two_sum(nums, target):\\n    num_map = {}\\n    for i, num in enumerate(nums):\\n        complement = target - num\\n        if complement in num_map:\\n            return [num_map[complement], i]\\n        num_map[num] = i\\n    return []\\n\\nprint(f\"Test Case 1: nums=[2, 7, 11, 15], target=9 -> {two_sum([2, 7, 11, 15], 9)}\")\\nprint(f\"Test Case 2: nums=[3, 2, 4], target=6 -> {two_sum([3, 2, 4], 6)}\")\\nprint(f\"Test Case 3: nums=[3, 3], target=6 -> {two_sum([3, 3], 6)}\")\\n'}, 'id': '47c7afd7-0bba-4565-87db-0ac8713c623d', 'type': 'tool_call'}], usage_metadata={'input_tokens': 105, 'output_tokens': 718, 'total_tokens': 823, 'input_token_details': {'cache_read': 0}, 'output_token_details': {'reasoning': 440}})"
      ]
     },
     "execution_count": 16,
     "metadata": {},
     "output_type": "execute_result"
    }
   ],
   "source": [
    "result"
   ]
  },
  {
   "cell_type": "markdown",
   "id": "d6fd0250",
   "metadata": {},
   "source": [
    "AIMessage(content='The Two Sum problem asks you to find two numbers in an array that add up to a specific target. You need to return the indices of these two numbers.\n",
    "\\n\\nHere are some test cases:',\n",
    "\n",
    " additional_kwargs={'function_call': {'name': 'python_repl', 'arguments': '{\"__arg1\": \n",
    " \n",
    " \"\\\\ndef two_sum(nums, target):\\\\n    num_map = {}\\\\n    for i, num in enumerate(nums):\\\\n        complement = target - num\\\\n        if complement in num_map:\\\\n            return [num_map[complement], i]\\\\n        num_map[num] = i\\\\n    return []\\\\n\\\\nprint(two_sum([2, 7, 11, 15], 9))\\\\nprint(two_sum([3, 2, 4], 6))\\\\nprint(two_sum([3, 3], 6))\\\\nprint(two_sum([1, 2, 3, 4, 5], 10))\\\\n\"}'}},\n",
    " \n",
    " \n",
    "  response_metadata={'prompt_feedback': {'block_reason': 0, 'safety_ratings': []}, 'finish_reason': 'STOP', 'model_name': 'gemini-2.5-flash', 'safety_ratings': []}, id='run--eb69a9d0-4c52-4f58-916f-92ed58ba8b82-0',\n",
    "  \n",
    "   tool_calls=[{'name': 'python_repl', 'args': {'__arg1': '\\ndef two_sum(nums, target):\\n    num_map = {}\\n    for i, num in enumerate(nums):\\n        complement = target - num\\n        if complement in num_map:\\n            return [num_map[complement], i]\\n        num_map[num] = i\\n    return []\\n\\nprint(two_sum([2, 7, 11, 15], 9))\\nprint(two_sum([3, 2, 4], 6))\\nprint(two_sum([3, 3], 6))\\nprint(two_sum([1, 2, 3, 4, 5], 10))\\n'}, \n",
    "   \n",
    "   \n",
    "   'id': 'fca36480-fd74-4c35-a973-8f0ecc450a87', 'type': 'tool_call'}], usage_metadata={'input_tokens': 105, 'output_tokens': 311, 'total_tokens': 416, 'input_token_details': {'cache_read': 0}, 'output_token_details': {'reasoning': 100}})"
   ]
  },
  {
   "cell_type": "code",
   "execution_count": 17,
   "id": "f62f9c6c",
   "metadata": {},
   "outputs": [
    {
     "data": {
      "text/plain": [
       "[{'name': 'python_repl',\n",
       "  'args': {'__arg1': '\\ndef two_sum(nums, target):\\n    num_map = {}\\n    for i, num in enumerate(nums):\\n        complement = target - num\\n        if complement in num_map:\\n            return [num_map[complement], i]\\n        num_map[num] = i\\n    return []\\n\\nprint(f\"Test Case 1: nums=[2, 7, 11, 15], target=9 -> {two_sum([2, 7, 11, 15], 9)}\")\\nprint(f\"Test Case 2: nums=[3, 2, 4], target=6 -> {two_sum([3, 2, 4], 6)}\")\\nprint(f\"Test Case 3: nums=[3, 3], target=6 -> {two_sum([3, 3], 6)}\")\\n'},\n",
       "  'id': '47c7afd7-0bba-4565-87db-0ac8713c623d',\n",
       "  'type': 'tool_call'}]"
      ]
     },
     "execution_count": 17,
     "metadata": {},
     "output_type": "execute_result"
    }
   ],
   "source": [
    "result.tool_calls"
   ]
  },
  {
   "cell_type": "code",
   "execution_count": 18,
   "id": "54751cad",
   "metadata": {},
   "outputs": [],
   "source": [
    "if not os.environ.get(\"TAVILY_API_KEY\"):\n",
    "    os.environ[\"TAVILY_API_KEY\"] = getpass.getpass(\"Tavily API key:\\n\")"
   ]
  },
  {
   "cell_type": "code",
   "execution_count": 19,
   "id": "af173ea2",
   "metadata": {},
   "outputs": [],
   "source": [
    "from langchain_tavily import TavilySearch"
   ]
  },
  {
   "cell_type": "code",
   "execution_count": 20,
   "id": "58e92b90",
   "metadata": {},
   "outputs": [],
   "source": [
    "from langchain_core.tools import tool\n",
    "\n",
    "@tool(name_or_callable=\"tavily_search\", description=\"Use Tavily to search the web for current or recent events.\")\n",
    "def tavily_search(query: str) -> str:\n",
    "    search = TavilySearch(  \n",
    "        max_results=5,\n",
    "        topic=\"general\",\n",
    "        )\n",
    "    response = search.invoke({\"query\": query})\n",
    "    # Return a summary of top result(s) — you could customize this\n",
    "    results = response.get(\"results\", [])\n",
    "    if not results:\n",
    "        return \"No results found.\"\n",
    "    return results[0].get(\"content\", \"No content available.\")"
   ]
  },
  {
   "cell_type": "code",
   "execution_count": 21,
   "id": "05a7b20e",
   "metadata": {},
   "outputs": [],
   "source": [
    "def generate_hint(question: str) -> str:\n",
    "    \"\"\"Generate a helpful hint for a DSA problem without solving it.\n",
    "    input: question (str): The DSA problem to generate a hint for.\n",
    "    output: str: A helpful hint for the DSA problem.\"\"\"\n",
    "    \n",
    "    return llm.invoke(f\"Give a helpful hint for this DSA problem without solving it: {question}\")\n"
   ]
  },
  {
   "cell_type": "code",
   "execution_count": 22,
   "id": "d2979840",
   "metadata": {},
   "outputs": [],
   "source": [
    "def generate_test_cases(problem_description: str) -> str:\n",
    "    \"\"\"Use this to generate test cases for DSA problems.\n",
    "    input: problem_description - the DSA problem statement\n",
    "    output: 3 test cases without solving the problem\"\"\"\n",
    "    \n",
    "    return llm.invoke(f\"Create 3 test cases for this DSA problem without solving it: {problem_description}\")\n"
   ]
  },
  {
   "cell_type": "code",
   "execution_count": 23,
   "id": "834f34a2",
   "metadata": {},
   "outputs": [],
   "source": [
    "def bug_hint_tool(code: str) -> str:\n",
    "    \"\"\"Use this to analyze code for logic issues and provide a subtle hint.\n",
    "    input: code - the code to analyze\n",
    "    output: str - a subtle hint about potential logic issues in the code.\n",
    "    \"\"\"\n",
    "\n",
    "    return llm.invoke(f\"Analyze this code for logic issues and give a subtle hint: {code}\")\n"
   ]
  },
  {
   "cell_type": "code",
   "execution_count": 24,
   "id": "529b9765",
   "metadata": {},
   "outputs": [],
   "source": [
    "llm_with_tools = llm.bind_tools([repl_tool, tavily_search,generate_hint, generate_test_cases, bug_hint_tool])"
   ]
  },
  {
   "cell_type": "code",
   "execution_count": 25,
   "id": "bb04ffe6",
   "metadata": {},
   "outputs": [],
   "source": [
    "from langchain_core.messages import HumanMessage, ToolMessage, AIMessage\n",
    "from langgraph.graph import StateGraph, END"
   ]
  },
  {
   "cell_type": "code",
   "execution_count": 26,
   "id": "90311a98",
   "metadata": {},
   "outputs": [],
   "source": [
    "from typing import Annotated\n",
    "from typing_extensions import TypedDict\n",
    "from langgraph.graph.message import add_messages\n",
    "from langchain_core.messages import AnyMessage\n",
    "\n",
    "class State(TypedDict):\n",
    "    messages: Annotated[list[AnyMessage], add_messages]\n"
   ]
  },
  {
   "cell_type": "code",
   "execution_count": 27,
   "id": "f1dc7761",
   "metadata": {},
   "outputs": [],
   "source": [
    "from typing import Callable\n",
    "\n",
    "# You must register your tool functions in a dictionary\n",
    "tool_map: dict[str, Callable] = {\n",
    "    \"python_repl\": python_repl.run,\n",
    "    \"search_tool\": tavily_search,\n",
    "    \"generate_hint\": generate_hint,\n",
    "    \"generate_test_cases\": generate_test_cases,\n",
    "    \"bug_hint_tool\": bug_hint_tool,\n",
    "}"
   ]
  },
  {
   "cell_type": "code",
   "execution_count": 28,
   "id": "025d1f1c",
   "metadata": {},
   "outputs": [],
   "source": [
    "def execute_tools(state: State) -> State:\n",
    "    last_message = state[\"messages\"][-1]\n",
    "    tool_outputs = []\n",
    "\n",
    "    for tool_call in last_message.tool_calls:\n",
    "        tool_name = tool_call[\"name\"]\n",
    "        tool_args = tool_call[\"args\"]\n",
    "\n",
    "        # Get function from registered tool map\n",
    "        tool_func = tool_map.get(tool_name)\n",
    "\n",
    "        if tool_func is None:\n",
    "            output = f\"[ERROR] Unknown tool: {tool_name}\"\n",
    "        else:\n",
    "            try:\n",
    "                # Prefer full argument dict if function accepts it\n",
    "                output = tool_func(tool_args)\n",
    "            except Exception as e:\n",
    "                output = f\"[ERROR while running {tool_name}]: {e}\"\n",
    "\n",
    "        tool_outputs.append(\n",
    "            ToolMessage(\n",
    "                tool_call_id=tool_call[\"id\"],\n",
    "                content=output\n",
    "            )\n",
    "        )\n",
    "\n",
    "    return {\"messages\": state[\"messages\"] + tool_outputs}\n"
   ]
  },
  {
   "cell_type": "code",
   "execution_count": 29,
   "id": "4ac45aad",
   "metadata": {},
   "outputs": [],
   "source": [
    "def should_call_tool(state: State) -> str:\n",
    "    last_message = state[\"messages\"][-1]\n",
    "    if isinstance(last_message, AIMessage) and last_message.tool_calls:\n",
    "        return \"call_tool\"\n",
    "    return END"
   ]
  },
  {
   "cell_type": "code",
   "execution_count": 30,
   "id": "9cfbc2a3",
   "metadata": {},
   "outputs": [],
   "source": [
    "def call_llm(state: State) -> State:\n",
    "    result = llm_with_tools.invoke(state[\"messages\"])\n",
    "    return {\"messages\": [result]}"
   ]
  },
  {
   "cell_type": "code",
   "execution_count": 31,
   "id": "97a7379c",
   "metadata": {},
   "outputs": [],
   "source": [
    "graph = StateGraph(State)\n",
    "\n",
    "graph.add_node(\"call_llm\", call_llm)\n",
    "graph.add_node(\"call_tool\", execute_tools)\n",
    "graph.set_entry_point(\"call_llm\")\n",
    "graph.add_conditional_edges(\"call_llm\", should_call_tool)\n",
    "graph.add_edge(\"call_tool\", \"call_llm\")\n",
    "\n",
    "app = graph.compile()\n"
   ]
  },
  {
   "cell_type": "code",
   "execution_count": 42,
   "id": "4f40fd96",
   "metadata": {},
   "outputs": [],
   "source": [
    "inputs = {\n",
    "    \"messages\": [HumanMessage(content=\"What is two sum problem? generate test cases and run the test cases on code you generate,show output with proper debugging.\")]\n",
    "}\n",
    "\n",
    "final_state = app.invoke(inputs)"
   ]
  },
  {
   "cell_type": "code",
   "execution_count": 43,
   "id": "dec3df25",
   "metadata": {},
   "outputs": [
    {
     "name": "stdout",
     "output_type": "stream",
     "text": [
      "============================== HUMAN ==============================\n",
      "================================\u001b[1m Human Message \u001b[0m=================================\n",
      "\n",
      "What is two sum problem? generate test cases and run the test cases on code you generate,show output with proper debugging.\n",
      "============================== AI ==============================\n",
      "==================================\u001b[1m Ai Message \u001b[0m==================================\n",
      "\n",
      "The Two Sum problem is a classic problem in computer science, often used to introduce concepts like hash tables or efficient searching.\n",
      "\n",
      "**Problem Description:**\n",
      "\n",
      "Given an array of integers `nums` and an integer `target`, return indices of the two numbers such that they add up to `target`.\n",
      "\n",
      "You may assume that each input would have exactly one solution, and you may not use the same element twice.\n",
      "\n",
      "You can return the answer in any order.\n",
      "\n",
      "Let's generate some test cases for this problem.\n",
      "Tool Calls:\n",
      "  generate_test_cases (58b64690-805b-4a15-9604-eedc3817c5db)\n",
      " Call ID: 58b64690-805b-4a15-9604-eedc3817c5db\n",
      "  Args:\n",
      "    problem_description: Given an array of integers `nums` and an integer `target`, return indices of the two numbers such that they add up to `target`. You may assume that each input would have exactly one solution, and you may not use the same element twice. You can return the answer in any order.\n",
      "============================== TOOL ==============================\n",
      "=================================\u001b[1m Tool Message \u001b[0m=================================\n",
      "\n",
      "content='Here are 3 test cases for the given DSA problem, without providing the solution code:\\n\\n1.  **Test Case 1: Basic positive numbers, solution at the beginning.**\\n    *   **Input:**\\n        *   `nums = [2, 7, 11, 15]`\\n        *   `target = 9`\\n    *   **Expected Output:** `[0, 1]` (or `[1, 0]`)\\n    *   **Reasoning:** This is a straightforward, common scenario. It tests the basic functionality with positive integers and where the solution elements are adjacent and early in the array.\\n\\n2.  **Test Case 2: Array with negative numbers, zero target, and non-adjacent solution.**\\n    *   **Input:**\\n        *   `nums = [-3, 4, 3, 90]`\\n        *   `target = 0`\\n    *   **Expected Output:** `[0, 2]` (or `[2, 0]`)\\n    *   **Reasoning:** This case covers negative numbers, a target of zero, and ensures the algorithm can find elements that are not directly next to each other in the array. It also implicitly tests that `-3` and `3` are considered distinct elements.\\n\\n3.  **Test Case 3: Array containing duplicate values that form the solution.**\\n    *   **Input:**\\n        *   `nums = [3, 3]`\\n        *   `target = 6`\\n    *   **Expected Output:** `[0, 1]` (or `[1, 0]`)\\n    *   **Reasoning:** This is a crucial edge case. It explicitly tests the constraint \"you may not use the same element twice\" by providing two distinct elements that happen to have the same value. A common mistake is to fail this case by only considering unique values or by incorrectly handling indices when values are duplicated.' additional_kwargs={} response_metadata={'prompt_feedback': {'block_reason': 0, 'safety_ratings': []}, 'finish_reason': 'STOP', 'model_name': 'gemini-2.5-flash', 'safety_ratings': []} id='run--5c6dacff-7dfa-4183-b23a-31d56183d7d9-0' usage_metadata={'input_tokens': 81, 'output_tokens': 2173, 'total_tokens': 2254, 'input_token_details': {'cache_read': 0}, 'output_token_details': {'reasoning': 1755}}\n",
      "============================== AI ==============================\n",
      "==================================\u001b[1m Ai Message \u001b[0m==================================\n",
      "\n",
      "[\"The Two Sum problem is a classic algorithmic problem.\\n\\n**Problem Description:**\\nGiven an array of integers `nums` and an integer `target`, return indices of the two numbers such that they add up to `target`. You may assume that each input would have exactly one solution, and you may not use the same element twice. You can return the answer in any order.\\n\\nHere's a Python solution for the Two Sum problem and the execution of the generated test cases with debugging.\\n\\n**Python Code:**\", '```python\\ndef two_sum(nums, target):\\n    num_map = {}\\n    for i, num in enumerate(nums):\\n        complement = target - num\\n        if complement in num_map:\\n            return [num_map[complement], i]\\n        num_map[num] = i\\n    return [] # Should not reach here based on problem constraints\\n```', '\\n\\n**Test Cases and Debugging:**\\n\\nHere are the test cases and their execution with the provided code:\\n\\n**Test Case 1:**\\n*   **Input:**\\n    *   `nums = [2, 7, 11, 15]`\\n    *   `target = 9`\\n*   **Expected Output:** `[0, 1]` (or `[1, 0]`)']\n",
      "Tool Calls:\n",
      "  python_repl (9888cbfe-6d99-4086-8a58-588a4b2ce645)\n",
      " Call ID: 9888cbfe-6d99-4086-8a58-588a4b2ce645\n",
      "  Args:\n",
      "    __arg1: \n",
      "def two_sum(nums, target):\n",
      "    num_map = {}\n",
      "    print(f\"Initial num_map: {num_map}\")\n",
      "    for i, num in enumerate(nums):\n",
      "        complement = target - num\n",
      "        print(f\"Iteration {i}: num={num}, complement={complement}\")\n",
      "        if complement in num_map:\n",
      "            print(f\"Found complement {complement} at index {num_map[complement]}. Current num {num} at index {i}.\")\n",
      "            return [num_map[complement], i]\n",
      "        num_map[num] = i\n",
      "        print(f\"Added {num}:{i} to num_map. Current num_map: {num_map}\")\n",
      "    return []\n",
      "\n",
      "nums1 = [2, 7, 11, 15]\n",
      "target1 = 9\n",
      "print(f\"Running Test Case 1: nums={nums1}, target={target1}\")\n",
      "print(f\"Output: {two_sum(nums1, target1)}\")\n",
      "============================== TOOL ==============================\n",
      "=================================\u001b[1m Tool Message \u001b[0m=================================\n",
      "\n",
      "TypeError('eval() arg 1 must be a string, bytes or code object')\n",
      "============================== AI ==============================\n",
      "==================================\u001b[1m Ai Message \u001b[0m==================================\n",
      "\n",
      "The \"Two Sum\" problem is a classic algorithm question. Given an array of integers `nums` and an integer `target`, the goal is to return the indices of the two numbers in the array that add up to `target`. It's typically assumed that there's exactly one solution and that you cannot use the same element twice.\n",
      "\n",
      "Here are the test cases generated for the problem:\n",
      "\n",
      "1.  **Test Case 1: Basic positive numbers, solution at the beginning.**\n",
      "    *   **Input:** `nums = [2, 7, 11, 15]`, `target = 9`\n",
      "    *   **Expected Output:** `[0, 1]` (or `[1, 0]`)\n",
      "\n",
      "2.  **Test Case 2: Array with negative numbers, zero target, and non-adjacent solution.**\n",
      "    *   **Input:** `nums = [-3, 4, 3, 90]`, `target = 0`\n",
      "    *   **Expected Output:** `[0, 2]` (or `[2, 0]`)\n",
      "\n",
      "3.  **Test Case 3: Array containing duplicate values that form the solution.**\n",
      "    *   **Input:** `nums = [3, 3]`, `target = 6`\n",
      "    *   **Expected Output:** `[0, 1]` (or `[1, 0]`)\n",
      "\n",
      "Here's the Python code for the Two Sum problem, along with debugging output, and the execution of the first test case:\n",
      "Tool Calls:\n",
      "  python_repl (3961f464-6620-4365-ae10-f18031032ce2)\n",
      " Call ID: 3961f464-6620-4365-ae10-f18031032ce2\n",
      "  Args:\n",
      "    __arg1: \n",
      "def two_sum(nums, target):\n",
      "    num_map = {}\n",
      "    print(f\"Initial num_map: {num_map}\")\n",
      "    for i, num in enumerate(nums):\n",
      "        complement = target - num\n",
      "        print(f\"Iteration {i}: num={num}, complement={complement}\")\n",
      "        if complement in num_map:\n",
      "            print(f\"Found complement {complement} at index {num_map[complement]}. Current num {num} at index {i}.\")\n",
      "            return [num_map[complement], i]\n",
      "        num_map[num] = i\n",
      "        print(f\"Added {num}:{i} to num_map. Current num_map: {num_map}\")\n",
      "    return []\n",
      "\n",
      "# Test Case 1\n",
      "nums1 = [2, 7, 11, 15]\n",
      "target1 = 9\n",
      "print(f\"\\nRunning Test Case 1: nums={nums1}, target={target1}\")\n",
      "print(f\"Output: {two_sum(nums1, target1)}\")\n",
      "\n",
      "# Test Case 2\n",
      "nums2 = [-3, 4, 3, 90]\n",
      "target2 = 0\n",
      "print(f\"\\nRunning Test Case 2: nums={nums2}, target={target2}\")\n",
      "print(f\"Output: {two_sum(nums2, target2)}\")\n",
      "\n",
      "# Test Case 3\n",
      "nums3 = [3, 3]\n",
      "target3 = 6\n",
      "print(f\"\\nRunning Test Case 3: nums={nums3}, target={target3}\")\n",
      "print(f\"Output: {two_sum(nums3, target3)}\")\n",
      "============================== TOOL ==============================\n",
      "=================================\u001b[1m Tool Message \u001b[0m=================================\n",
      "\n",
      "TypeError('eval() arg 1 must be a string, bytes or code object')\n",
      "============================== AI ==============================\n",
      "==================================\u001b[1m Ai Message \u001b[0m==================================\n",
      "\n",
      "The Two Sum problem is a classic problem in computer science, often used to introduce concepts of arrays, hash maps, and time complexity.\n",
      "\n",
      "**Problem Description:**\n",
      "\n",
      "Given an array of integers `nums` and an integer `target`, return indices of the two numbers such that they add up to `target`.\n",
      "\n",
      "You may assume that each input would have exactly one solution, and you may not use the same element twice. You can return the answer in any order.\n",
      "\n",
      "**Example:**\n",
      "\n",
      "Input: `nums = [2, 7, 11, 15]`, `target = 9`\n",
      "Output: `[0, 1]`\n",
      "Explanation: Because `nums[0] + nums[1] == 9`, we return `[0, 1]`.\n",
      "\n",
      "Here's a Python solution for the Two Sum problem, along with the test cases and their execution with debugging output:\n",
      "Tool Calls:\n",
      "  python_repl (995427a9-cbe8-48d3-a95a-8c582955aa78)\n",
      " Call ID: 995427a9-cbe8-48d3-a95a-8c582955aa78\n",
      "  Args:\n",
      "    __arg1: exec('''\n",
      "def two_sum(nums, target):\n",
      "    num_map = {}\n",
      "    print(f\"Initial num_map: {num_map}\")\n",
      "    for i, num in enumerate(nums):\n",
      "        complement = target - num\n",
      "        print(f\"Iteration {i}: num={num}, complement={complement}\")\n",
      "        if complement in num_map:\n",
      "            print(f\"Found complement {complement} at index {num_map[complement]}. Current num {num} at index {i}.\")\n",
      "            return [num_map[complement], i]\n",
      "        num_map[num] = i\n",
      "        print(f\"Added {num}:{i} to num_map. Current num_map: {num_map}\")\n",
      "    return []\n",
      "\n",
      "# Test Case 1: Basic positive numbers, solution at the beginning.\n",
      "nums1 = [2, 7, 11, 15]\n",
      "target1 = 9\n",
      "print(f\"\\n--- Running Test Case 1: nums={nums1}, target={target1} ---\")\n",
      "print(f\"Output: {two_sum(nums1, target1)}\")\n",
      "\n",
      "# Test Case 2: Array with negative numbers, zero target, and non-adjacent solution.\n",
      "nums2 = [-3, 4, 3, 90]\n",
      "target2 = 0\n",
      "print(f\"\\n--- Running Test Case 2: nums={nums2}, target={target2} ---\")\n",
      "print(f\"Output: {two_sum(nums2, target2)}\")\n",
      "\n",
      "# Test Case 3: Array containing duplicate values that form the solution.\n",
      "nums3 = [3, 3]\n",
      "target3 = 6\n",
      "print(f\"\\n--- Running Test Case 3: nums={nums3}, target={target3} ---\")\n",
      "print(f\"Output: {two_sum(nums3, target3)}\")\n",
      "''')\n",
      "============================== TOOL ==============================\n",
      "=================================\u001b[1m Tool Message \u001b[0m=================================\n",
      "\n",
      "TypeError('eval() arg 1 must be a string, bytes or code object')\n",
      "============================== AI ==============================\n",
      "==================================\u001b[1m Ai Message \u001b[0m==================================\n",
      "\n",
      "The \"Two Sum\" problem is a classic algorithm question that asks you to find two numbers in an array that add up to a specific target.\n",
      "\n",
      "**Problem Statement:**\n",
      "Given an array of integers `nums` and an integer `target`, return indices of the two numbers such that they add up to `target`. You may assume that each input would have exactly one solution, and you may not use the same element twice. You can return the answer in any order.\n",
      "\n",
      "Here's a Python solution for the Two Sum problem, along with debugging output for the generated test cases:\n",
      "Tool Calls:\n",
      "  python_repl (901c3ac9-1bcb-47cb-b10f-a5aace20f300)\n",
      " Call ID: 901c3ac9-1bcb-47cb-b10f-a5aace20f300\n",
      "  Args:\n",
      "    __arg1: exec('''\n",
      "def two_sum(nums, target):\n",
      "    num_map = {}\n",
      "    print(f\"Initial num_map: {num_map}\")\n",
      "    for i, num in enumerate(nums):\n",
      "        complement = target - num\n",
      "        print(f\"Iteration {i}: num={num}, complement={complement}\")\n",
      "        if complement in num_map:\n",
      "            print(f\"Found complement {complement} at index {num_map[complement]}. Current num {num} at index {i}.\")\n",
      "            return [num_map[complement], i]\n",
      "        num_map[num] = i\n",
      "        print(f\"Added {num}:{i} to num_map. Current num_map: {num_map}\")\n",
      "    return []\n",
      "\n",
      "# Test Case 1: Basic positive numbers, solution at the beginning.\n",
      "nums1 = [2, 7, 11, 15]\n",
      "target1 = 9\n",
      "print(f\"\\n--- Running Test Case 1: nums={nums1}, target={target1} ---\")\n",
      "print(f\"Output: {two_sum(nums1, target1)}\")\n",
      "\n",
      "# Test Case 2: Array with negative numbers, zero target, and non-adjacent solution.\n",
      "nums2 = [-3, 4, 3, 90]\n",
      "target2 = 0\n",
      "print(f\"\\n--- Running Test Case 2: nums={nums2}, target={target2} ---\")\n",
      "print(f\"Output: {two_sum(nums2, target2)}\")\n",
      "\n",
      "# Test Case 3: Array containing duplicate values that form the solution.\n",
      "nums3 = [3, 3]\n",
      "target3 = 6\n",
      "print(f\"\\n--- Running Test Case 3: nums={nums3}, target={target3} ---\")\n",
      "print(f\"Output: {two_sum(nums3, target3)}\")\n",
      "''')\n",
      "============================== TOOL ==============================\n",
      "=================================\u001b[1m Tool Message \u001b[0m=================================\n",
      "\n",
      "TypeError('eval() arg 1 must be a string, bytes or code object')\n",
      "============================== AI ==============================\n",
      "==================================\u001b[1m Ai Message \u001b[0m==================================\n",
      "\n",
      "The \"Two Sum\" problem is a classic algorithm question.\n",
      "\n",
      "**Problem Description:**\n",
      "\n",
      "Given an array of integers `nums` and an integer `target`, return indices of the two numbers such that they add up to `target`.\n",
      "\n",
      "You may assume that each input would have exactly one solution, and you may not use the same element twice. You can return the answer in any order.\n",
      "\n",
      "Here's the Python code with debugging output, run against the generated test cases:\n",
      "Tool Calls:\n",
      "  python_repl (3d2ff362-3593-48b8-b00f-554a3e636c1b)\n",
      " Call ID: 3d2ff362-3593-48b8-b00f-554a3e636c1b\n",
      "  Args:\n",
      "    __arg1: \n",
      "def two_sum(nums, target):\n",
      "    num_map = {}\n",
      "    print(f\"Initial num_map: {num_map}\")\n",
      "    for i, num in enumerate(nums):\n",
      "        complement = target - num\n",
      "        print(f\"Iteration {i}: num={num}, complement={complement}\")\n",
      "        if complement in num_map:\n",
      "            print(f\"Found complement {complement} at index {num_map[complement]}. Current num {num} at index {i}.\")\n",
      "            return [num_map[complement], i]\n",
      "        num_map[num] = i\n",
      "        print(f\"Added {num}:{i} to num_map. Current num_map: {num_map}\")\n",
      "    return []\n",
      "\n",
      "# Test Case 1: Basic positive numbers, solution at the beginning.\n",
      "nums1 = [2, 7, 11, 15]\n",
      "target1 = 9\n",
      "print(f\"\\n--- Running Test Case 1: nums={nums1}, target={target1} ---\")\n",
      "print(f\"Output: {two_sum(nums1, target1)}\")\n",
      "\n",
      "# Test Case 2: Array with negative numbers, zero target, and non-adjacent solution.\n",
      "nums2 = [-3, 4, 3, 90]\n",
      "target2 = 0\n",
      "print(f\"\\n--- Running Test Case 2: nums={nums2}, target={target2} ---\")\n",
      "print(f\"Output: {two_sum(nums2, target2)}\")\n",
      "\n",
      "# Test Case 3: Array containing duplicate values that form the solution.\n",
      "nums3 = [3, 3]\n",
      "target3 = 6\n",
      "print(f\"\\n--- Running Test Case 3: nums={nums3}, target={target3} ---\")\n",
      "print(f\"Output: {two_sum(nums3, target3)}\")\n",
      "============================== TOOL ==============================\n",
      "=================================\u001b[1m Tool Message \u001b[0m=================================\n",
      "\n",
      "TypeError('eval() arg 1 must be a string, bytes or code object')\n",
      "============================== AI ==============================\n",
      "==================================\u001b[1m Ai Message \u001b[0m==================================\n",
      "\n",
      "The \"Two Sum\" problem is a classic data structure and algorithms problem. It states:\n",
      "\n",
      "**Given an array of integers `nums` and an integer `target`, return indices of the two numbers such that they add up to `target`. You may assume that each input would have exactly one solution, and you may not use the same element twice. You can return the answer in any order.**\n",
      "\n",
      "Here are the test cases generated for this problem:\n",
      "\n",
      "1.  **Test Case 1: Basic positive numbers, solution at the beginning.**\n",
      "    *   **Input:**\n",
      "        *   `nums = [2, 7, 11, 15]`\n",
      "        *   `target = 9`\n",
      "    *   **Expected Output:** `[0, 1]` (or `[1, 0]`)\n",
      "\n",
      "2.  **Test Case 2: Array with negative numbers, zero target, and non-adjacent solution.**\n",
      "    *   **Input:**\n",
      "        *   `nums = [-3, 4, 3, 90]`\n",
      "        *   `target = 0`\n",
      "    *   **Expected Output:** `[0, 2]` (or `[2, 0]`)\n",
      "\n",
      "3.  **Test Case 3: Array containing duplicate values that form the solution.**\n",
      "    *   **Input:**\n",
      "        *   `nums = [3, 3]`\n",
      "        *   `target = 6`\n",
      "    *   **Expected Output:** `[0, 1]` (or `[1, 0]`)\n",
      "\n",
      "Now, let's run a Python solution for the Two Sum problem on these test cases with debugging output:\n",
      "Tool Calls:\n",
      "  python_repl (7d917b46-d04e-49a6-97b2-883b545230f1)\n",
      " Call ID: 7d917b46-d04e-49a6-97b2-883b545230f1\n",
      "  Args:\n",
      "    __arg1: \n",
      "def two_sum(nums, target):\n",
      "    num_map = {}\n",
      "    print(f\"Initial num_map: {num_map}\")\n",
      "    for i, num in enumerate(nums):\n",
      "        complement = target - num\n",
      "        print(f\"Iteration {i}: num={num}, complement={complement}\")\n",
      "        if complement in num_map:\n",
      "            print(f\"Found complement {complement} at index {num_map[complement]}. Current num {num} at index {i}.\")\n",
      "            return [num_map[complement], i]\n",
      "        num_map[num] = i\n",
      "        print(f\"Added {num}:{i} to num_map. Current num_map: {num_map}\")\n",
      "    return []\n",
      "\n",
      "# Test Case 1: Basic positive numbers, solution at the beginning.\n",
      "nums1 = [2, 7, 11, 15]\n",
      "target1 = 9\n",
      "print(f\"\\n--- Running Test Case 1: nums={nums1}, target={target1} ---\")\n",
      "print(f\"Output: {two_sum(nums1, target1)}\")\n",
      "\n",
      "# Test Case 2: Array with negative numbers, zero target, and non-adjacent solution.\n",
      "nums2 = [-3, 4, 3, 90]\n",
      "target2 = 0\n",
      "print(f\"\\n--- Running Test Case 2: nums={nums2}, target={target2} ---\")\n",
      "print(f\"Output: {two_sum(nums2, target2)}\")\n",
      "\n",
      "# Test Case 3: Array containing duplicate values that form the solution.\n",
      "nums3 = [3, 3]\n",
      "target3 = 6\n",
      "print(f\"\\n--- Running Test Case 3: nums={nums3}, target={target3} ---\")\n",
      "print(f\"Output: {two_sum(nums3, target3)}\")\n",
      "============================== TOOL ==============================\n",
      "=================================\u001b[1m Tool Message \u001b[0m=================================\n",
      "\n",
      "TypeError('eval() arg 1 must be a string, bytes or code object')\n",
      "============================== AI ==============================\n",
      "==================================\u001b[1m Ai Message \u001b[0m==================================\n",
      "\n",
      "The \"Two Sum\" problem is a classic data structure and algorithms question.\n",
      "\n",
      "**Problem Description:**\n",
      "\n",
      "Given an array of integers `nums` and an integer `target`, return indices of the two numbers such that they add up to `target`. You may assume that each input would have exactly one solution, and you may not use the same element twice. You can return the answer in any order.\n",
      "\n",
      "**Example:**\n",
      "\n",
      "*   `nums = [2, 7, 11, 15]`, `target = 9`\n",
      "*   **Output:** `[0, 1]` (because `nums[0] + nums[1] == 2 + 7 == 9`)\n",
      "\n",
      "**Generated Test Cases:**\n",
      "\n",
      "1.  **Test Case 1: Basic positive numbers, solution at the beginning.**\n",
      "    *   **Input:**\n",
      "        *   `nums = [2, 7, 11, 15]`\n",
      "        *   `target = 9`\n",
      "    *   **Expected Output:** `[0, 1]` (or `[1, 0]`)\n",
      "\n",
      "2.  **Test Case 2: Array with negative numbers, zero target, and non-adjacent solution.**\n",
      "    *   **Input:**\n",
      "        *   `nums = [-3, 4, 3, 90]`\n",
      "        *   `target = 0`\n",
      "    *   **Expected Output:** `[0, 2]` (or `[2, 0]`)\n",
      "\n",
      "3.  **Test Case 3: Array containing duplicate values that form the solution.**\n",
      "    *   **Input:**\n",
      "        *   `nums = [3, 3]`\n",
      "        *   `target = 6`\n",
      "    *   **Expected Output:** `[0, 1]` (or `[1, 0]`)\n",
      "\n",
      "**Python Code with Debugging and Test Case Execution:**\n",
      "Tool Calls:\n",
      "  python_repl (b8b62181-abce-4564-bc7c-3e5364e8c334)\n",
      " Call ID: b8b62181-abce-4564-bc7c-3e5364e8c334\n",
      "  Args:\n",
      "    __arg1: \n",
      "def two_sum(nums, target):\n",
      "    num_map = {}\n",
      "    print(f\"Initial num_map: {num_map}\")\n",
      "    for i, num in enumerate(nums):\n",
      "        complement = target - num\n",
      "        print(f\"Iteration {i}: num={num}, complement={complement}\")\n",
      "        if complement in num_map:\n",
      "            print(f\"Found complement {complement} at index {num_map[complement]}. Current num {num} at index {i}.\")\n",
      "            return [num_map[complement], i]\n",
      "        num_map[num] = i\n",
      "        print(f\"Added {num}:{i} to num_map. Current num_map: {num_map}\")\n",
      "    return []\n",
      "\n",
      "# Test Case 1: Basic positive numbers, solution at the beginning.\n",
      "nums1 = [2, 7, 11, 15]\n",
      "target1 = 9\n",
      "print(f\"\\n--- Running Test Case 1: nums={nums1}, target={target1} ---\")\n",
      "print(f\"Output: {two_sum(nums1, target1)}\")\n",
      "\n",
      "# Test Case 2: Array with negative numbers, zero target, and non-adjacent solution.\n",
      "nums2 = [-3, 4, 3, 90]\n",
      "target2 = 0\n",
      "print(f\"\\n--- Running Test Case 2: nums={nums2}, target={target2} ---\")\n",
      "print(f\"Output: {two_sum(nums2, target2)}\")\n",
      "\n",
      "# Test Case 3: Array containing duplicate values that form the solution.\n",
      "nums3 = [3, 3]\n",
      "target3 = 6\n",
      "print(f\"\\n--- Running Test Case 3: nums={nums3}, target={target3} ---\")\n",
      "print(f\"Output: {two_sum(nums3, target3)}\")\n",
      "============================== TOOL ==============================\n",
      "=================================\u001b[1m Tool Message \u001b[0m=================================\n",
      "\n",
      "TypeError('eval() arg 1 must be a string, bytes or code object')\n",
      "============================== AI ==============================\n",
      "==================================\u001b[1m Ai Message \u001b[0m==================================\n",
      "\n",
      "['The \"Two Sum\" problem is a classic data structure and algorithms question.\\n\\n**Problem Description:**\\n\\nGiven an array of integers `nums` and an integer `target`, return indices of the two numbers such that they add up to `target`. You may assume that each input would have exactly one solution, and you may not use the same element twice. You can return the answer in any order.\\n\\n**Example:**\\n\\n*   **Input:** `nums = [2, 7, 11, 15]`, `target = 9`\\n*   **Output:** `[0, 1]`\\n*   **Explanation:** Because `nums[0] + nums[1] == 9`, we return `[0, 1]`.\\n\\n**Generated Test Cases:**\\n\\n1.  **Test Case 1: Basic positive numbers, solution at the beginning.**\\n    *   **Input:**\\n        *   `nums = [2, 7, 11, 15]`\\n        *   `target = 9`\\n    *   **Expected Output:** `[0, 1]` (or `[1, 0]`)\\n\\n2.  **Test Case 2: Array with negative numbers, zero target, and non-adjacent solution.**\\n    *   **Input:**\\n        *   `nums = [-3, 4, 3, 90]`\\n        *   `target = 0`\\n    *   **Expected Output:** `[0, 2]` (or `[2, 0]`)\\n\\n3.  **Test Case 3: Array containing duplicate values that form the solution.**\\n    *   **Input:**\\n        *   `nums = [3, 3]`\\n        *   `target = 6`\\n    *   **Expected Output:** `[0, 1]` (or `[1, 0]`)\\n\\n**Python Code for Two Sum with Debugging Prints:**', '```python\\ndef two_sum(nums, target):\\n    num_map = {}\\n    print(f\"Initial num_map: {num_map}\")\\n    for i, num in enumerate(nums):\\n        complement = target - num\\n        print(f\"Iteration {i}: num={num}, complement={complement}\")\\n        if complement in num_map:\\n            print(f\"Found complement {complement} at index {num_map[complement]}. Current num {num} at index {i}.\")\\n            return [num_map[complement], i]\\n        num_map[num] = i\\n        print(f\"Added {num}:{i} to num_map. Current num_map: {num_map}\")\\n    return []\\n```', \"\\n\\n**Running Test Cases and Debugging Output (Simulated):**\\n\\nUnfortunately, there's an issue with the current `python_repl` tool that prevents it from executing multi-line code with `print` statements as intended, resulting in a `TypeError`. Therefore, I will simulate the debugging output you would see if the code were runnable.\\n\\n---\\n\\n**--- Running Test Case 1: nums=[2, 7, 11, 15], target=9 ---**\\n\\n*   `Initial num_map: {}`\\n*   **Iteration 0:** `num=2`, `complement=7`\\n    *   `7` not in `num_map`.\\n    *   `Added 2:0 to num_map. Current num_map: {2: 0}`\\n*   **Iteration 1:** `num=7`, `complement=2`\\n    *   `2` in `num_map`.\\n    *   `Found complement 2 at index 0. Current num 7 at index 1.`\\n    *   **Output: `[0, 1]`**\\n\\n---\\n\\n**--- Running Test Case 2: nums=[-3, 4, 3, 90], target=0 ---**\\n\\n*   `Initial num_map: {}`\\n*   **Iteration 0:** `num=-3`, `complement=3`\\n    *   `3` not in `num_map`.\\n    *   `Added -3:0 to num_map. Current num_map: {-3: 0}`\\n*   **Iteration 1:** `num=4`, `complement=-4`\\n    *   `-4` not in `num_map`.\\n    *   `Added 4:1 to num_map. Current num_map: {-3: 0, 4: 1}`\\n*   **Iteration 2:** `num=3`, `complement=-3`\\n    *   `-3` in `num_map`.\\n    *   `Found complement -3 at index 0. Current num 3 at index 2.`\\n    *   **Output: `[0, 2]`**\\n\\n---\\n\\n**--- Running Test Case 3: nums=[3, 3], target=6 ---**\\n\\n*   `Initial num_map: {}`\\n*   **Iteration 0:** `num=3`, `complement=3`\\n    *   `3` not in `num_map`.\\n    *   `Added 3:0 to num_map. Current num_map: {3: 0}`\\n*   **Iteration 1:** `num=3`, `complement=3`\\n    *   `3` in `num_map`.\\n    *   `Found complement 3 at index 0. Current num 3 at index 1.`\\n    *   **Output: `[0, 1]`**\\n\\n---\"]\n"
     ]
    }
   ],
   "source": [
    "from pprint import pprint\n",
    "\n",
    "for msg in final_state[\"messages\"]:\n",
    "    print(\"=\"*30, msg.type.upper(), \"=\"*30)\n",
    "    if hasattr(msg, \"pretty_print\"):\n",
    "        msg.pretty_print()\n",
    "    else:\n",
    "        pprint(msg)\n"
   ]
  },
  {
   "cell_type": "code",
   "execution_count": 144,
   "id": "a85a199d",
   "metadata": {},
   "outputs": [],
   "source": []
  }
 ],
 "metadata": {
  "kernelspec": {
   "display_name": "dsa_preparation",
   "language": "python",
   "name": "python3"
  },
  "language_info": {
   "codemirror_mode": {
    "name": "ipython",
    "version": 3
   },
   "file_extension": ".py",
   "mimetype": "text/x-python",
   "name": "python",
   "nbconvert_exporter": "python",
   "pygments_lexer": "ipython3",
   "version": "3.11.13"
  }
 },
 "nbformat": 4,
 "nbformat_minor": 5
}
