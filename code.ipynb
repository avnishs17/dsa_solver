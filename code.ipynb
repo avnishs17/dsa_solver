{
 "cells": [
  {
   "cell_type": "code",
   "execution_count": 4,
   "id": "1bfca3d1",
   "metadata": {},
   "outputs": [
    {
     "data": {
      "text/plain": [
       "True"
      ]
     },
     "execution_count": 4,
     "metadata": {},
     "output_type": "execute_result"
    }
   ],
   "source": [
    "from dotenv import load_dotenv\n",
    "import os\n",
    "import getpass\n",
    "\n",
    "load_dotenv()"
   ]
  },
  {
   "cell_type": "code",
   "execution_count": 5,
   "id": "e6dafea2",
   "metadata": {},
   "outputs": [],
   "source": [
    "if \"GOOGLE_API_KEY\" not in os.environ:\n",
    "    os.environ[\"GOOGLE_API_KEY\"] = getpass.getpass(\"Enter your Google AI API key: \")"
   ]
  },
  {
   "cell_type": "code",
   "execution_count": 6,
   "id": "a5a777ad",
   "metadata": {},
   "outputs": [],
   "source": [
    "if \"LANGSMITH_API_KEY\" not in os.environ:\n",
    "    os.environ[\"LANGSMITH_API_KEY\"] = getpass.getpass(\"Enter your LangSmith API key: \")\n",
    "os.environ[\"LANGSMITH_TRACING\"] = \"true\""
   ]
  },
  {
   "cell_type": "code",
   "execution_count": 7,
   "id": "3ff02a19",
   "metadata": {},
   "outputs": [],
   "source": [
    "from langchain_google_genai import ChatGoogleGenerativeAI\n",
    "\n",
    "llm = ChatGoogleGenerativeAI(\n",
    "    model=\"gemini-2.5-flash\",\n",
    "    temperature=0.7,\n",
    "    max_retries=2,\n",
    ")"
   ]
  },
  {
   "cell_type": "code",
   "execution_count": 8,
   "id": "9557edca",
   "metadata": {},
   "outputs": [],
   "source": [
    "result=llm.invoke('What is two sum problem? Explain in 50 word or less.')"
   ]
  },
  {
   "cell_type": "code",
   "execution_count": 9,
   "id": "67642504",
   "metadata": {},
   "outputs": [
    {
     "data": {
      "text/plain": [
       "\"The Two Sum problem asks you to find two numbers in a given array of integers that add up to a specific target sum. Your goal is to return the **indices** of these two numbers. It's a fundamental problem often used to test basic algorithmic thinking.\""
      ]
     },
     "execution_count": 9,
     "metadata": {},
     "output_type": "execute_result"
    }
   ],
   "source": [
    "result.content"
   ]
  },
  {
   "cell_type": "markdown",
   "id": "4656fe24",
   "metadata": {},
   "source": [
    "The Two Sum problem asks you to find two numbers in a given array of integers that sum up to a specific target number. You typically return the indices of these two numbers. It's a classic problem, often solved efficiently using a hash map."
   ]
  },
  {
   "cell_type": "code",
   "execution_count": 10,
   "id": "2797515d",
   "metadata": {},
   "outputs": [],
   "source": [
    "from langchain_core.tools import Tool\n",
    "from langchain_experimental.utilities import PythonREPL"
   ]
  },
  {
   "cell_type": "code",
   "execution_count": 11,
   "id": "19d33347",
   "metadata": {},
   "outputs": [],
   "source": [
    "python_repl = PythonREPL()"
   ]
  },
  {
   "cell_type": "code",
   "execution_count": 12,
   "id": "ac6e5982",
   "metadata": {},
   "outputs": [
    {
     "name": "stderr",
     "output_type": "stream",
     "text": [
      "Python REPL can execute arbitrary code. Use with caution.\n"
     ]
    },
    {
     "data": {
      "text/plain": [
       "'2\\n'"
      ]
     },
     "execution_count": 12,
     "metadata": {},
     "output_type": "execute_result"
    }
   ],
   "source": [
    "python_repl.run(\"print(1+1)\")"
   ]
  },
  {
   "cell_type": "code",
   "execution_count": 13,
   "id": "df727d9b",
   "metadata": {},
   "outputs": [
    {
     "data": {
      "text/plain": [
       "'NameError(\"name \\'fib\\' is not defined\")'"
      ]
     },
     "execution_count": 13,
     "metadata": {},
     "output_type": "execute_result"
    }
   ],
   "source": [
    "python_repl.run(\"\"\"\n",
    "def fib(n):\n",
    "    if n <= 1:\n",
    "        return n\n",
    "    return fib(n-1) + fib(n-2)\n",
    "\n",
    "fib(10)\n",
    "\"\"\")\n"
   ]
  },
  {
   "cell_type": "code",
   "execution_count": 60,
   "id": "bf324cbb",
   "metadata": {},
   "outputs": [],
   "source": [
    "from langchain_experimental.utilities import PythonREPL\n",
    "import sys\n",
    "from io import StringIO\n",
    "\n",
    "class PersistentPythonREPLTool(PythonREPL):\n",
    "    def __init__(self):\n",
    "        super().__init__()\n",
    "        self._globals = {}\n",
    "\n",
    "    def run(self, command: str) -> str:\n",
    "        # Capture stdout\n",
    "        old_stdout = sys.stdout\n",
    "        sys.stdout = captured_output = StringIO()\n",
    "        \n",
    "        try:\n",
    "            # First try eval (single expression)\n",
    "            result = eval(command, self._globals)\n",
    "            output = captured_output.getvalue()\n",
    "            if output:\n",
    "                return output + str(result)\n",
    "            return str(result)\n",
    "        except SyntaxError:\n",
    "            # If it's a statement block, use exec\n",
    "            try:\n",
    "                exec(command, self._globals)\n",
    "                output = captured_output.getvalue()\n",
    "                return output if output else \"Executed successfully with no output.\"\n",
    "            except Exception as e:\n",
    "                output = captured_output.getvalue()\n",
    "                return output + repr(e) if output else repr(e)\n",
    "        except Exception as e:\n",
    "            output = captured_output.getvalue()\n",
    "            return output + repr(e) if output else repr(e)\n",
    "        finally:\n",
    "            # Restore stdout\n",
    "            sys.stdout = old_stdout"
   ]
  },
  {
   "cell_type": "code",
   "execution_count": 61,
   "id": "e8b711dd",
   "metadata": {},
   "outputs": [
    {
     "name": "stdout",
     "output_type": "stream",
     "text": [
      "Testing fixed REPL tool:\n",
      "Function defined successfully!\n",
      "Running Two Sum function...\n",
      "Result: [0, 1]\n",
      "\n"
     ]
    }
   ],
   "source": [
    "# Create a new instance with the fixed version\n",
    "python_repl = PersistentPythonREPLTool()\n",
    "\n",
    "# Test the fixed tool with print statements\n",
    "print(\"Testing fixed REPL tool:\")\n",
    "print(python_repl.run(\"\"\"\n",
    "def twoSum(nums, target):\n",
    "    print(\"Running Two Sum function...\")\n",
    "    num_map = {}\n",
    "    for i, num in enumerate(nums):\n",
    "        complement = target - num\n",
    "        if complement in num_map:\n",
    "            return [num_map[complement], i]\n",
    "        num_map[num] = i\n",
    "    return []\n",
    "\n",
    "print(\"Function defined successfully!\")\n",
    "result = twoSum([2, 7, 11, 15], 9)\n",
    "print(f\"Result: {result}\")\n",
    "\"\"\"))\n"
   ]
  },
  {
   "cell_type": "code",
   "execution_count": 62,
   "id": "c5904bd2",
   "metadata": {},
   "outputs": [],
   "source": [
    "# You can create the tool to pass to an agent with the fixed python_repl\n",
    "repl_tool = Tool(\n",
    "    name=\"python_repl\",\n",
    "    description=\"A Python shell. Use this to execute python commands. Input should be\" \\\n",
    "                \" a valid python command. If you want to see the output of a value, you \" \\\n",
    "                \"should print it out with `print(...)`.\",\n",
    "    func=python_repl.run,\n",
    ")"
   ]
  },
  {
   "cell_type": "code",
   "execution_count": 63,
   "id": "d239ad1e",
   "metadata": {},
   "outputs": [],
   "source": [
    "llm_with_tools=llm.bind_tools([repl_tool])"
   ]
  },
  {
   "cell_type": "code",
   "execution_count": 64,
   "id": "d8a027b7",
   "metadata": {},
   "outputs": [],
   "source": [
    "result=llm_with_tools.invoke(\"What is two sum problem? Explain in 50 word or less. and run the code with the tool to show me some test cases\")"
   ]
  },
  {
   "cell_type": "code",
   "execution_count": 65,
   "id": "e418710e",
   "metadata": {},
   "outputs": [
    {
     "data": {
      "text/plain": [
       "AIMessage(content='The Two Sum problem asks you to find two numbers in an array that add up to a specific target. You need to return the indices of these two numbers. Each input has exactly one solution, and you cannot use the same element twice.\\n\\nHere are some test cases:', additional_kwargs={'function_call': {'name': 'python_repl', 'arguments': '{\"__arg1\": \"\\\\ndef two_sum(nums, target):\\\\n    num_map = {}\\\\n    for i, num in enumerate(nums):\\\\n        complement = target - num\\\\n        if complement in num_map:\\\\n            return [num_map[complement], i]\\\\n        num_map[num] = i\\\\n\\\\nprint(f\\\\\"Test Case 1: nums=[2, 7, 11, 15], target=9 -> {two_sum([2, 7, 11, 15], 9)}\\\\\")\\\\nprint(f\\\\\"Test Case 2: nums=[3, 2, 4], target=6 -> {two_sum([3, 2, 4], 6)}\\\\\")\\\\nprint(f\\\\\"Test Case 3: nums=[3, 3], target=6 -> {two_sum([3, 3], 6)}\\\\\")\\\\n\"}'}}, response_metadata={'prompt_feedback': {'block_reason': 0, 'safety_ratings': []}, 'finish_reason': 'STOP', 'model_name': 'gemini-2.5-flash', 'safety_ratings': []}, id='run--bfbde9e3-faf7-4f0e-8200-fed430d26d5e-0', tool_calls=[{'name': 'python_repl', 'args': {'__arg1': '\\ndef two_sum(nums, target):\\n    num_map = {}\\n    for i, num in enumerate(nums):\\n        complement = target - num\\n        if complement in num_map:\\n            return [num_map[complement], i]\\n        num_map[num] = i\\n\\nprint(f\"Test Case 1: nums=[2, 7, 11, 15], target=9 -> {two_sum([2, 7, 11, 15], 9)}\")\\nprint(f\"Test Case 2: nums=[3, 2, 4], target=6 -> {two_sum([3, 2, 4], 6)}\")\\nprint(f\"Test Case 3: nums=[3, 3], target=6 -> {two_sum([3, 3], 6)}\")\\n'}, 'id': '5adb7a22-6c2a-4210-98b9-9777246580b2', 'type': 'tool_call'}], usage_metadata={'input_tokens': 105, 'output_tokens': 662, 'total_tokens': 767, 'input_token_details': {'cache_read': 0}, 'output_token_details': {'reasoning': 391}})"
      ]
     },
     "execution_count": 65,
     "metadata": {},
     "output_type": "execute_result"
    }
   ],
   "source": [
    "result"
   ]
  },
  {
   "cell_type": "markdown",
   "id": "d6fd0250",
   "metadata": {},
   "source": [
    "AIMessage(content='The Two Sum problem asks you to find two numbers in an array that add up to a specific target. You need to return the indices of these two numbers.\n",
    "\\n\\nHere are some test cases:',\n",
    "\n",
    " additional_kwargs={'function_call': {'name': 'python_repl', 'arguments': '{\"__arg1\": \n",
    " \n",
    " \"\\\\ndef two_sum(nums, target):\\\\n    num_map = {}\\\\n    for i, num in enumerate(nums):\\\\n        complement = target - num\\\\n        if complement in num_map:\\\\n            return [num_map[complement], i]\\\\n        num_map[num] = i\\\\n    return []\\\\n\\\\nprint(two_sum([2, 7, 11, 15], 9))\\\\nprint(two_sum([3, 2, 4], 6))\\\\nprint(two_sum([3, 3], 6))\\\\nprint(two_sum([1, 2, 3, 4, 5], 10))\\\\n\"}'}},\n",
    " \n",
    " \n",
    "  response_metadata={'prompt_feedback': {'block_reason': 0, 'safety_ratings': []}, 'finish_reason': 'STOP', 'model_name': 'gemini-2.5-flash', 'safety_ratings': []}, id='run--eb69a9d0-4c52-4f58-916f-92ed58ba8b82-0',\n",
    "  \n",
    "   tool_calls=[{'name': 'python_repl', 'args': {'__arg1': '\\ndef two_sum(nums, target):\\n    num_map = {}\\n    for i, num in enumerate(nums):\\n        complement = target - num\\n        if complement in num_map:\\n            return [num_map[complement], i]\\n        num_map[num] = i\\n    return []\\n\\nprint(two_sum([2, 7, 11, 15], 9))\\nprint(two_sum([3, 2, 4], 6))\\nprint(two_sum([3, 3], 6))\\nprint(two_sum([1, 2, 3, 4, 5], 10))\\n'}, \n",
    "   \n",
    "   \n",
    "   'id': 'fca36480-fd74-4c35-a973-8f0ecc450a87', 'type': 'tool_call'}], usage_metadata={'input_tokens': 105, 'output_tokens': 311, 'total_tokens': 416, 'input_token_details': {'cache_read': 0}, 'output_token_details': {'reasoning': 100}})"
   ]
  },
  {
   "cell_type": "code",
   "execution_count": 66,
   "id": "f62f9c6c",
   "metadata": {},
   "outputs": [
    {
     "data": {
      "text/plain": [
       "[{'name': 'python_repl',\n",
       "  'args': {'__arg1': '\\ndef two_sum(nums, target):\\n    num_map = {}\\n    for i, num in enumerate(nums):\\n        complement = target - num\\n        if complement in num_map:\\n            return [num_map[complement], i]\\n        num_map[num] = i\\n\\nprint(f\"Test Case 1: nums=[2, 7, 11, 15], target=9 -> {two_sum([2, 7, 11, 15], 9)}\")\\nprint(f\"Test Case 2: nums=[3, 2, 4], target=6 -> {two_sum([3, 2, 4], 6)}\")\\nprint(f\"Test Case 3: nums=[3, 3], target=6 -> {two_sum([3, 3], 6)}\")\\n'},\n",
       "  'id': '5adb7a22-6c2a-4210-98b9-9777246580b2',\n",
       "  'type': 'tool_call'}]"
      ]
     },
     "execution_count": 66,
     "metadata": {},
     "output_type": "execute_result"
    }
   ],
   "source": [
    "result.tool_calls"
   ]
  },
  {
   "cell_type": "code",
   "execution_count": 67,
   "id": "54751cad",
   "metadata": {},
   "outputs": [],
   "source": [
    "if not os.environ.get(\"TAVILY_API_KEY\"):\n",
    "    os.environ[\"TAVILY_API_KEY\"] = getpass.getpass(\"Tavily API key:\\n\")"
   ]
  },
  {
   "cell_type": "code",
   "execution_count": 68,
   "id": "af173ea2",
   "metadata": {},
   "outputs": [],
   "source": [
    "from langchain_tavily import TavilySearch"
   ]
  },
  {
   "cell_type": "code",
   "execution_count": 69,
   "id": "58e92b90",
   "metadata": {},
   "outputs": [],
   "source": [
    "from langchain_core.tools import tool\n",
    "\n",
    "@tool(name_or_callable=\"tavily_search\", description=\"Use Tavily to search the web for current or recent events.\")\n",
    "def tavily_search(query: str) -> str:\n",
    "    search = TavilySearch(  \n",
    "        max_results=5,\n",
    "        topic=\"general\",\n",
    "        )\n",
    "    response = search.invoke({\"query\": query})\n",
    "    # Return a summary of top result(s) — you could customize this\n",
    "    results = response.get(\"results\", [])\n",
    "    if not results:\n",
    "        return \"No results found.\"\n",
    "    return results[0].get(\"content\", \"No content available.\")"
   ]
  },
  {
   "cell_type": "code",
   "execution_count": 70,
   "id": "05a7b20e",
   "metadata": {},
   "outputs": [],
   "source": [
    "def generate_hint(question: str) -> str:\n",
    "    \"\"\"Generate a helpful hint for a DSA problem without solving it.\n",
    "    input: question (str): The DSA problem to generate a hint for.\n",
    "    output: str: A helpful hint for the DSA problem.\"\"\"\n",
    "    \n",
    "    return llm.invoke(f\"Give a helpful hint for this DSA problem without solving it: {question}\")\n"
   ]
  },
  {
   "cell_type": "code",
   "execution_count": 71,
   "id": "d2979840",
   "metadata": {},
   "outputs": [],
   "source": [
    "def generate_test_cases(problem_description: str) -> str:\n",
    "    \"\"\"Use this to generate test cases for DSA problems.\n",
    "    input: problem_description - the DSA problem statement\n",
    "    output: 3 test cases without solving the problem\"\"\"\n",
    "    \n",
    "    return llm.invoke(f\"Create 3 test cases for this DSA problem without solving it: {problem_description}\")\n"
   ]
  },
  {
   "cell_type": "code",
   "execution_count": 72,
   "id": "834f34a2",
   "metadata": {},
   "outputs": [],
   "source": [
    "def bug_hint_tool(code: str) -> str:\n",
    "    \"\"\"Use this to analyze code for logic issues and provide a subtle hint.\n",
    "    input: code - the code to analyze\n",
    "    output: str - a subtle hint about potential logic issues in the code.\n",
    "    \"\"\"\n",
    "\n",
    "    return llm.invoke(f\"Analyze this code for logic issues and give a subtle hint: {code}\")\n"
   ]
  },
  {
   "cell_type": "code",
   "execution_count": 73,
   "id": "529b9765",
   "metadata": {},
   "outputs": [],
   "source": [
    "llm_with_tools = llm.bind_tools([repl_tool, tavily_search,generate_hint, generate_test_cases, bug_hint_tool])"
   ]
  },
  {
   "cell_type": "code",
   "execution_count": 74,
   "id": "bb04ffe6",
   "metadata": {},
   "outputs": [],
   "source": [
    "from langchain_core.messages import HumanMessage, ToolMessage, AIMessage\n",
    "from langgraph.graph import StateGraph, END"
   ]
  },
  {
   "cell_type": "code",
   "execution_count": 75,
   "id": "90311a98",
   "metadata": {},
   "outputs": [],
   "source": [
    "from typing import Annotated\n",
    "from typing_extensions import TypedDict\n",
    "from langgraph.graph.message import add_messages\n",
    "from langchain_core.messages import AnyMessage\n",
    "\n",
    "class State(TypedDict):\n",
    "    messages: Annotated[list[AnyMessage], add_messages]\n"
   ]
  },
  {
   "cell_type": "code",
   "execution_count": 76,
   "id": "f1dc7761",
   "metadata": {},
   "outputs": [],
   "source": [
    "from typing import Callable\n",
    "\n",
    "# You must register your tool functions in a dictionary\n",
    "tool_map: dict[str, Callable] = {\n",
    "    \"python_repl\": python_repl.run,\n",
    "    \"tavily_search\": tavily_search,\n",
    "    \"generate_hint\": generate_hint,\n",
    "    \"generate_test_cases\": generate_test_cases,\n",
    "    \"bug_hint_tool\": bug_hint_tool,\n",
    "}"
   ]
  },
  {
   "cell_type": "code",
   "execution_count": 77,
   "id": "025d1f1c",
   "metadata": {},
   "outputs": [],
   "source": [
    "def execute_tools(state: State) -> State:\n",
    "    last_message = state[\"messages\"][-1]\n",
    "    tool_outputs = []\n",
    "    for tool_call in last_message.tool_calls:\n",
    "        tool_name = tool_call[\"name\"]\n",
    "        tool_args = tool_call[\"args\"]\n",
    "        # Get function from registered tool map\n",
    "        tool_func = tool_map.get(tool_name)\n",
    "        if tool_func is None:\n",
    "            output = f\"[ERROR] Unknown tool: {tool_name}\"\n",
    "        else:\n",
    "            try:\n",
    "                # Handle different argument structures for different tools\n",
    "                if tool_name == \"python_repl\":\n",
    "                    # For python_repl, extract the string from __arg1 key\n",
    "                    if \"__arg1\" in tool_args:\n",
    "                        output = tool_func(tool_args[\"__arg1\"])\n",
    "                    else:\n",
    "                        # If no __arg1, try to get the first value or convert dict to string\n",
    "                        output = tool_func(str(tool_args))\n",
    "                elif tool_name == \"tavily_search\":\n",
    "                    # For tavily_search, it expects a query string\n",
    "                    if \"query\" in tool_args:\n",
    "                        output = tool_func(tool_args[\"query\"])\n",
    "                    else:\n",
    "                        output = tool_func(str(tool_args))\n",
    "                else:\n",
    "                    # For other tools that expect string arguments\n",
    "                    if len(tool_args) == 1:\n",
    "                        # If only one argument, use its value\n",
    "                        output = tool_func(list(tool_args.values())[0])\n",
    "                    else:\n",
    "                        # For multiple arguments, pass the whole dict\n",
    "                        output = tool_func(tool_args)\n",
    "            except Exception as e:\n",
    "                output = f\"[ERROR while running {tool_name}]: {e}\"\n",
    "        tool_outputs.append(\n",
    "            ToolMessage(\n",
    "                tool_call_id=tool_call[\"id\"],\n",
    "                content=str(output)  # Ensure output is always a string\n",
    "            )\n",
    "        )\n",
    "    return {\"messages\": state[\"messages\"] + tool_outputs}"
   ]
  },
  {
   "cell_type": "code",
   "execution_count": 78,
   "id": "4ac45aad",
   "metadata": {},
   "outputs": [],
   "source": [
    "def should_call_tool(state: State) -> str:\n",
    "    last_message = state[\"messages\"][-1]\n",
    "    if isinstance(last_message, AIMessage) and last_message.tool_calls:\n",
    "        return \"call_tool\"\n",
    "    return END"
   ]
  },
  {
   "cell_type": "code",
   "execution_count": 79,
   "id": "9cfbc2a3",
   "metadata": {},
   "outputs": [],
   "source": [
    "def call_llm(state: State) -> State:\n",
    "    result = llm_with_tools.invoke(state[\"messages\"])\n",
    "    return {\"messages\": [result]}"
   ]
  },
  {
   "cell_type": "code",
   "execution_count": 80,
   "id": "97a7379c",
   "metadata": {},
   "outputs": [],
   "source": [
    "graph = StateGraph(State)\n",
    "graph.add_node(\"call_llm\", call_llm)\n",
    "graph.add_node(\"call_tool\", execute_tools)\n",
    "graph.set_entry_point(\"call_llm\")\n",
    "graph.add_conditional_edges(\"call_llm\", should_call_tool)\n",
    "graph.add_edge(\"call_tool\", \"call_llm\")\n",
    "app = graph.compile()"
   ]
  },
  {
   "cell_type": "code",
   "execution_count": 81,
   "id": "4f40fd96",
   "metadata": {},
   "outputs": [],
   "source": [
    "inputs = {\n",
    "    \"messages\": [HumanMessage(content=\"What is two sum problem? generate test cases and run the test cases on code you generate,show output with proper debugging.\")]\n",
    "}\n",
    "final_state = app.invoke(inputs)"
   ]
  },
  {
   "cell_type": "code",
   "execution_count": 82,
   "id": "dec3df25",
   "metadata": {},
   "outputs": [
    {
     "name": "stdout",
     "output_type": "stream",
     "text": [
      "============================== HUMAN ==============================\n",
      "================================\u001b[1m Human Message \u001b[0m=================================\n",
      "\n",
      "What is two sum problem? generate test cases and run the test cases on code you generate,show output with proper debugging.\n",
      "============================== AI ==============================\n",
      "==================================\u001b[1m Ai Message \u001b[0m==================================\n",
      "\n",
      "The Two Sum problem is a classic problem in computer science. Given an array of integers `nums` and an integer `target`, the goal is to find the indices of two numbers in the array such that they add up to the `target`. You can assume that each input will have exactly one solution, and you may not use the same element twice.\n",
      "\n",
      "Let's generate some test cases for the Two Sum problem.\n",
      "Tool Calls:\n",
      "  generate_test_cases (f6f2d536-aeda-40f3-ad42-8e7f8d08b0d3)\n",
      " Call ID: f6f2d536-aeda-40f3-ad42-8e7f8d08b0d3\n",
      "  Args:\n",
      "    problem_description: Given an array of integers `nums` and an integer `target`, return indices of the two numbers such that they add up to `target`. You may assume that each input will have exactly one solution, and you may not use the same element twice.\n",
      "============================== TOOL ==============================\n",
      "=================================\u001b[1m Tool Message \u001b[0m=================================\n",
      "\n",
      "content='Here are 3 test cases for the Two Sum problem, designed to cover different scenarios without revealing a solution strategy:\\n\\n---\\n\\n**Test Case 1: Basic Positive Integers**\\n\\n*   **Description:** A straightforward case with positive numbers where the target is a sum of two distinct elements in the middle of the array.\\n*   **`nums`**: `[2, 7, 11, 15]`\\n*   **`target`**: `9`\\n*   **Expected Output**: `[0, 1]` (because `nums[0] + nums[1] = 2 + 7 = 9`)\\n\\n---\\n\\n**Test Case 2: Negative Numbers and Zero Target**\\n\\n*   **Description:** This case includes negative numbers and tests if the sum can result in zero.\\n*   **`nums`**: `[-3, 4, 3, 90]`\\n*   **`target`**: `0`\\n*   **Expected Output**: `[0, 2]` (because `nums[0] + nums[2] = -3 + 3 = 0`)\\n\\n---\\n\\n**Test Case 3: Duplicate Numbers in Input and Using Distinct Indices**\\n\\n*   **Description:** This case ensures the solution correctly handles arrays with duplicate values and picks two *different* indices even if the values are the same.\\n*   **`nums`**: `[3, 2, 4, 3]`\\n*   **`target`**: `6`\\n*   **Expected Output**: `[0, 3]` (because `nums[0] + nums[3] = 3 + 3 = 6`. Note: `[1, 2]` is also a valid pair for `2+4=6`, but the problem guarantees exactly one solution. If we assume the first pair encountered, `[0,3]` is one possibility given the specific `nums` array. If the problem implies *any* solution is fine, `[1,2]` is also valid. But to be specific, `[0,3]` directly uses the duplicate values.)\\n\\n    *Self-correction/Clarification for Test 3*: The problem states \"exactly one solution\". This means there will be only one *pair of indices* that sums to the target. For `[3, 2, 4, 3]` and `target = 6`, both `(3, 3)` at indices `(0, 3)` and `(2, 4)` at indices `(1, 2)` sum to `6`. This contradicts \"exactly one solution\".\\n\\n    Let\\'s *adjust Test 3* to strictly adhere to \"exactly one solution\":\\n\\n---\\n\\n**Revised Test Case 3: Duplicate Values & Distinct Indices (Strictly One Solution)**\\n\\n*   **Description:** This case includes duplicate numbers where *only one specific pair* sums to the target, ensuring distinct indices are used.\\n*   **`nums`**: `[3, 2, 5, 7]`\\n*   **`target`**: `10`\\n*   **Expected Output**: `[0, 3]` (because `nums[0] + nums[3] = 3 + 7 = 10`. The `5` is not used in this specific solution.)\\n\\n    *Further refinement for Test 3 to *really* test duplicates*:\\n\\n---\\n\\n**Final Test Case 3: Using Duplicate Values at Distinct Indices for the Solution**\\n\\n*   **Description:** This case specifically tests the scenario where the two numbers that sum to the target are identical values present at different indices in the input array.\\n*   **`nums`**: `[3, 3]`\\n*   **`target`**: `6`\\n*   **Expected Output**: `[0, 1]` (because `nums[0] + nums[1] = 3 + 3 = 6`. This directly tests \"you may not use the same element twice\" by using two elements that *happen to have the same value* but are at *different positions/indices*.)' additional_kwargs={} response_metadata={'prompt_feedback': {'block_reason': 0, 'safety_ratings': []}, 'finish_reason': 'STOP', 'model_name': 'gemini-2.5-flash', 'safety_ratings': []} id='run--3bb348ad-ca84-4e9f-afe3-de39804bc962-0' usage_metadata={'input_tokens': 65, 'output_tokens': 2139, 'total_tokens': 2204, 'input_token_details': {'cache_read': 0}, 'output_token_details': {'reasoning': 1260}}\n",
      "============================== AI ==============================\n",
      "==================================\u001b[1m Ai Message \u001b[0m==================================\n",
      "\n",
      "[\"The Two Sum problem is a classic algorithmic challenge.\\n\\n**Problem Description:**\\n\\nGiven an array of integers `nums` and an integer `target`, the goal is to find the indices of two numbers in the array such that their sum equals the `target`.\\n\\n**Assumptions:**\\n*   Each input will have exactly one solution.\\n*   You may not use the same element twice (meaning, if `nums[i]` is one of the numbers, you cannot use `nums[i]` again as the second number; you must find `nums[j]` where `j != i`).\\n\\n**Example:**\\n\\nIf `nums = [2, 7, 11, 15]` and `target = 9`, the solution would be `[0, 1]` because `nums[0]` (which is 2) + `nums[1]` (which is 7) = 9.\\n\\nHere's a Python solution to the Two Sum problem, followed by running the generated test cases against it:\", '```python\\ndef two_sum(nums, target):\\n    num_map = {}  # Dictionary to store number and its index\\n\\n    for i, num in enumerate(nums):\\n        complement = target - num\\n        if complement in num_map:\\n            return [num_map[complement], i]\\n        num_map[num] = i\\n    return [] # Should not reach here based on problem constraints (exactly one solution)\\n```', \"\\n\\nNow, let's run the test cases with this code:\\n\\n**Test Case 1: Basic Positive Integers**\\n*   `nums`: `[2, 7, 11, 15]`\\n*   `target`: `9`\\n*   Expected Output: `[0, 1]`\\n\\n**Test Case 2: Negative Numbers and Zero Target**\\n*   `nums`: `[-3, 4, 3, 90]`\\n*   `target`: `0`\\n*   Expected Output: `[0, 2]`\\n\\n**Test Case 3: Using Duplicate Values at Distinct Indices for the Solution**\\n*   `nums`: `[3, 3]`\\n*   `target`: `6`\\n*   Expected Output: `[0, 1]`\\n\\nLet's execute the code with these test cases.\"]\n",
      "Tool Calls:\n",
      "  python_repl (81dd4e02-4e9d-4bda-bcbe-6fbfa4baa434)\n",
      " Call ID: 81dd4e02-4e9d-4bda-bcbe-6fbfa4baa434\n",
      "  Args:\n",
      "    __arg1: \n",
      "def two_sum(nums, target):\n",
      "    num_map = {}\n",
      "    for i, num in enumerate(nums):\n",
      "        complement = target - num\n",
      "        if complement in num_map:\n",
      "            return [num_map[complement], i]\n",
      "        num_map[num] = i\n",
      "    return []\n",
      "\n",
      "# Test Case 1\n",
      "nums1 = [2, 7, 11, 15]\n",
      "target1 = 9\n",
      "result1 = two_sum(nums1, target1)\n",
      "print(f\"Test Case 1 - Input: nums={nums1}, target={target1}, Output: {result1}, Expected: [0, 1]\")\n",
      "\n",
      "# Test Case 2\n",
      "nums2 = [-3, 4, 3, 90]\n",
      "target2 = 0\n",
      "result2 = two_sum(nums2, target2)\n",
      "print(f\"Test Case 2 - Input: nums={nums2}, target={target2}, Output: {result2}, Expected: [0, 2]\")\n",
      "\n",
      "# Test Case 3\n",
      "nums3 = [3, 3]\n",
      "target3 = 6\n",
      "result3 = two_sum(nums3, target3)\n",
      "print(f\"Test Case 3 - Input: nums={nums3}, target={target3}, Output: {result3}, Expected: [0, 1]\")\n",
      "============================== TOOL ==============================\n",
      "=================================\u001b[1m Tool Message \u001b[0m=================================\n",
      "\n",
      "Test Case 1 - Input: nums=[2, 7, 11, 15], target=9, Output: [0, 1], Expected: [0, 1]\n",
      "Test Case 2 - Input: nums=[-3, 4, 3, 90], target=0, Output: [0, 2], Expected: [0, 2]\n",
      "Test Case 3 - Input: nums=[3, 3], target=6, Output: [0, 1], Expected: [0, 1]\n",
      "\n",
      "============================== AI ==============================\n",
      "==================================\u001b[1m Ai Message \u001b[0m==================================\n",
      "\n",
      "The Two Sum problem is a classic algorithmic problem. Given an array of integers `nums` and an integer `target`, the goal is to return the indices of two numbers in the array such that they add up to `target`. You can assume that each input will have exactly one solution, and you may not use the same element twice.\n",
      "\n",
      "Here are the test cases generated and the output from running the provided Python solution:\n",
      "\n",
      "**Test Case 1: Basic Positive Integers**\n",
      "*   **Input**: `nums=[2, 7, 11, 15]`, `target=9`\n",
      "*   **Output**: `[0, 1]`\n",
      "*   **Expected**: `[0, 1]`\n",
      "*   **Debug**: The output matches the expected output, indicating the solution correctly found the indices for `2 + 7 = 9`.\n",
      "\n",
      "**Test Case 2: Negative Numbers and Zero Target**\n",
      "*   **Input**: `nums=[-3, 4, 3, 90]`, `target=0`\n",
      "*   **Output**: `[0, 2]`\n",
      "*   **Expected**: `[0, 2]`\n",
      "*   **Debug**: The output matches the expected output, indicating the solution correctly handled negative numbers and a target of zero (`-3 + 3 = 0`).\n",
      "\n",
      "**Test Case 3: Using Duplicate Values at Distinct Indices for the Solution**\n",
      "*   **Input**: `nums=[3, 3]`, `target=6`\n",
      "*   **Output**: `[0, 1]`\n",
      "*   **Expected**: `[0, 1]`\n",
      "*   **Debug**: The output matches the expected output, demonstrating the solution correctly identifies two distinct indices for identical values that sum to the target (`3 + 3 = 6`).\n",
      "\n",
      "The provided code successfully passed all generated test cases.\n"
     ]
    }
   ],
   "source": [
    "from pprint import pprint\n",
    "\n",
    "for msg in final_state[\"messages\"]:\n",
    "    print(\"=\"*30, msg.type.upper(), \"=\"*30)\n",
    "    if hasattr(msg, \"pretty_print\"):\n",
    "        msg.pretty_print()\n",
    "    else:\n",
    "        pprint(msg)\n"
   ]
  },
  {
   "cell_type": "code",
   "execution_count": null,
   "id": "a85a199d",
   "metadata": {},
   "outputs": [],
   "source": []
  },
  {
   "cell_type": "code",
   "execution_count": null,
   "id": "48fca33c",
   "metadata": {},
   "outputs": [],
   "source": []
  }
 ],
 "metadata": {
  "kernelspec": {
   "display_name": ".venv",
   "language": "python",
   "name": "python3"
  },
  "language_info": {
   "codemirror_mode": {
    "name": "ipython",
    "version": 3
   },
   "file_extension": ".py",
   "mimetype": "text/x-python",
   "name": "python",
   "nbconvert_exporter": "python",
   "pygments_lexer": "ipython3",
   "version": "3.11.13"
  }
 },
 "nbformat": 4,
 "nbformat_minor": 5
}
